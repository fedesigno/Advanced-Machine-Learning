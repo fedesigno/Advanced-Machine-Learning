{
 "cells": [
  {
   "cell_type": "code",
   "execution_count": 1,
   "metadata": {},
   "outputs": [
    {
     "name": "stderr",
     "output_type": "stream",
     "text": [
      "Using TensorFlow backend.\n"
     ]
    }
   ],
   "source": [
    "import numpy as np\n",
    "import keras\n",
    "from keras.datasets import mnist"
   ]
  },
  {
   "cell_type": "code",
   "execution_count": 2,
   "metadata": {},
   "outputs": [],
   "source": [
    "from keras import layers\n",
    "from keras import models"
   ]
  },
  {
   "cell_type": "code",
   "execution_count": 3,
   "metadata": {},
   "outputs": [],
   "source": [
    "from keras.utils import to_categorical\n",
    "\n",
    "(train_images, train_labels), (test_images, test_labels) = mnist.load_data()"
   ]
  },
  {
   "cell_type": "code",
   "execution_count": 4,
   "metadata": {
    "scrolled": false
   },
   "outputs": [
    {
     "data": {
      "image/png": "[encoded data removed]",
      "text/plain": [
       "<Figure size 432x288 with 1 Axes>"
      ]
     },
     "metadata": {
      "needs_background": "light"
     },
     "output_type": "display_data"
    }
   ],
   "source": [
    "from matplotlib import pyplot\n",
    "import matplotlib as mpl\n",
    "import random\n",
    "%matplotlib inline \n",
    "\n",
    "#Print an image randomly selected\n",
    "fig = pyplot.figure()\n",
    "ax = fig.add_subplot(1,1,1)\n",
    "imgplot = ax.imshow(train_images[random.randint(0,9)], cmap=mpl.cm.Greys)\n",
    "imgplot.set_interpolation('nearest')\n",
    "ax.xaxis.set_ticks_position('top')\n",
    "ax.yaxis.set_ticks_position('left')\n",
    "pyplot.show()"
   ]
  },
  {
   "cell_type": "code",
   "execution_count": 5,
   "metadata": {},
   "outputs": [],
   "source": [
    "#Number of channels \n",
    "channels = 1\n",
    "\n",
    "#Reshaping on TRAIN \n",
    "train_images = train_images.reshape((train_images.shape[0], \n",
    "                                     train_images.shape[1], \n",
    "                                     train_images.shape[2],\n",
    "                                     channels))\n",
    "train_images = train_images.astype('float32') / 255\n",
    "\n",
    "#Reshaping on TEST \n",
    "test_images = test_images.reshape((test_images.shape[0], \n",
    "                                   test_images.shape[1], \n",
    "                                   test_images.shape[2],\n",
    "                                   channels))\n",
    "test_images = test_images.astype('float32') / 255\n",
    "\n",
    "#Labels transforming into categorical\n",
    "train_labels = to_categorical(train_labels)\n",
    "test_labels = to_categorical(test_labels)"
   ]
  },
  {
   "cell_type": "code",
   "execution_count": 6,
   "metadata": {},
   "outputs": [],
   "source": [
    "#number of classes\n",
    "num_class  = train_labels.shape[1]"
   ]
  },
  {
   "cell_type": "code",
   "execution_count": 7,
   "metadata": {},
   "outputs": [
    {
     "data": {
      "text/plain": [
       "(28, 28, 1)"
      ]
     },
     "execution_count": 7,
     "metadata": {},
     "output_type": "execute_result"
    }
   ],
   "source": [
    "train_images.shape[1:]"
   ]
  },
  {
   "cell_type": "code",
   "execution_count": 7,
   "metadata": {},
   "outputs": [],
   "source": [
    "#definition of CNN function\n",
    "\n",
    "def CNN(dim_pool):\n",
    "    \n",
    "    model = models.Sequential()\n",
    "    model.add(layers.Conv2D(16,(3,3),activation='relu', \n",
    "                                     input_shape=train_images.shape[1:]))\n",
    "    model.add(layers.AveragePooling2D(dim_pool))\n",
    "    model.add(layers.Conv2D(16, (3, 3), activation='relu'))\n",
    "    model.add(layers.AveragePooling2D(dim_pool))\n",
    "    model.add(layers.Flatten())\n",
    "    model.add(layers.Dense(num_class, activation='softmax'))\n",
    "    model.summary()\n",
    "    \n",
    "    return model"
   ]
  },
  {
   "cell_type": "code",
   "execution_count": 8,
   "metadata": {},
   "outputs": [
    {
     "name": "stdout",
     "output_type": "stream",
     "text": [
      "Model: \"sequential_1\"\n",
      "_________________________________________________________________\n",
      "Layer (type)                 Output Shape              Param #   \n",
      "=================================================================\n",
      "conv2d_1 (Conv2D)            (None, 26, 26, 16)        160       \n",
      "_________________________________________________________________\n",
      "average_pooling2d_1 (Average (None, 13, 13, 16)        0         \n",
      "_________________________________________________________________\n",
      "conv2d_2 (Conv2D)            (None, 11, 11, 16)        2320      \n",
      "_________________________________________________________________\n",
      "average_pooling2d_2 (Average (None, 5, 5, 16)          0         \n",
      "_________________________________________________________________\n",
      "flatten_1 (Flatten)          (None, 400)               0         \n",
      "_________________________________________________________________\n",
      "dense_1 (Dense)              (None, 10)                4010      \n",
      "=================================================================\n",
      "Total params: 6,490\n",
      "Trainable params: 6,490\n",
      "Non-trainable params: 0\n",
      "_________________________________________________________________\n"
     ]
    }
   ],
   "source": [
    "#model\n",
    "model = CNN(dim_pool = (2,2))"
   ]
  },
  {
   "cell_type": "code",
   "execution_count": 9,
   "metadata": {},
   "outputs": [
    {
     "name": "stdout",
     "output_type": "stream",
     "text": [
      "Train on 54000 samples, validate on 6000 samples\n",
      "Epoch 1/15\n",
      "54000/54000 [==============================] - 18s 328us/step - loss: 0.5358 - accuracy: 0.8442 - val_loss: 0.1827 - val_accuracy: 0.9510\n",
      "Epoch 2/15\n",
      "54000/54000 [==============================] - 17s 322us/step - loss: 0.1836 - accuracy: 0.9470 - val_loss: 0.1224 - val_accuracy: 0.9673\n",
      "Epoch 3/15\n",
      "54000/54000 [==============================] - 17s 320us/step - loss: 0.1306 - accuracy: 0.9611 - val_loss: 0.0995 - val_accuracy: 0.9760\n",
      "Epoch 4/15\n",
      "54000/54000 [==============================] - 17s 317us/step - loss: 0.1089 - accuracy: 0.9671 - val_loss: 0.0954 - val_accuracy: 0.9748\n",
      "Epoch 5/15\n",
      "54000/54000 [==============================] - 17s 311us/step - loss: 0.0959 - accuracy: 0.9708 - val_loss: 0.0772 - val_accuracy: 0.9787\n",
      "Epoch 6/15\n",
      "54000/54000 [==============================] - 16s 289us/step - loss: 0.0862 - accuracy: 0.9745 - val_loss: 0.0768 - val_accuracy: 0.9800\n",
      "Epoch 7/15\n",
      "54000/54000 [==============================] - 17s 321us/step - loss: 0.0804 - accuracy: 0.9762 - val_loss: 0.0729 - val_accuracy: 0.9817\n",
      "Epoch 8/15\n",
      "54000/54000 [==============================] - 17s 318us/step - loss: 0.0756 - accuracy: 0.9771 - val_loss: 0.0719 - val_accuracy: 0.9798\n",
      "Epoch 9/15\n",
      "54000/54000 [==============================] - 17s 317us/step - loss: 0.0716 - accuracy: 0.9784 - val_loss: 0.0696 - val_accuracy: 0.9820\n",
      "Epoch 10/15\n",
      "54000/54000 [==============================] - 17s 318us/step - loss: 0.0680 - accuracy: 0.9799 - val_loss: 0.0676 - val_accuracy: 0.9820\n",
      "Epoch 11/15\n",
      "54000/54000 [==============================] - 17s 317us/step - loss: 0.0635 - accuracy: 0.9810 - val_loss: 0.0634 - val_accuracy: 0.9828\n",
      "Epoch 12/15\n",
      "54000/54000 [==============================] - 17s 321us/step - loss: 0.0613 - accuracy: 0.9813 - val_loss: 0.0597 - val_accuracy: 0.9847\n",
      "Epoch 13/15\n",
      "54000/54000 [==============================] - 17s 320us/step - loss: 0.0585 - accuracy: 0.9821 - val_loss: 0.0636 - val_accuracy: 0.9842\n",
      "Epoch 14/15\n",
      "54000/54000 [==============================] - 17s 321us/step - loss: 0.0571 - accuracy: 0.9823 - val_loss: 0.0613 - val_accuracy: 0.9832\n",
      "Epoch 15/15\n",
      "54000/54000 [==============================] - 17s 315us/step - loss: 0.0543 - accuracy: 0.9835 - val_loss: 0.0592 - val_accuracy: 0.9850\n"
     ]
    }
   ],
   "source": [
    "#FITTING of the CNN\n",
    "from keras import optimizers\n",
    "\n",
    "adam = optimizers.Adam(learning_rate=0.001)\n",
    "\n",
    "model.compile(loss='categorical_crossentropy',\n",
    "              optimizer=adam, \n",
    "              metrics=['accuracy'])\n",
    "\n",
    "model_history = model.fit(train_images, train_labels, validation_split = 0.1,\n",
    "                          batch_size=128, epochs=15, verbose=1)"
   ]
  },
  {
   "cell_type": "code",
   "execution_count": 10,
   "metadata": {},
   "outputs": [
    {
     "data": {
      "image/png": "[encoded data removed]",
      "text/plain": [
       "<Figure size 864x576 with 1 Axes>"
      ]
     },
     "metadata": {},
     "output_type": "display_data"
    },
    {
     "data": {
      "image/png": "[encoded data removed]",
      "text/plain": [
       "<Figure size 864x576 with 1 Axes>"
      ]
     },
     "metadata": {},
     "output_type": "display_data"
    }
   ],
   "source": [
    "import matplotlib.pyplot as plt\n",
    "\n",
    "epoch = model_history.epoch\n",
    "\n",
    "plt.style.use('seaborn-whitegrid')\n",
    "loss = model_history.history['accuracy']\n",
    "val_loss = model_history.history['val_accuracy']\n",
    " \n",
    "plt.figure(figsize=(12,8))\n",
    "plt.plot(epoch, loss, 'g', label='Training accuracy')\n",
    "plt.plot(epoch, val_loss, 'b:', label='Validation accuracy')\n",
    "plt.title('Training and validation accuracy')\n",
    "#plt.ylim(0.95,1)\n",
    "plt.legend()\n",
    "plt.show()\n",
    "\n",
    "plt.style.use('seaborn-whitegrid')\n",
    "loss = model_history.history['loss']\n",
    "val_loss = model_history.history['val_loss']\n",
    " \n",
    "plt.figure(figsize=(12,8))\n",
    "plt.plot(epoch, loss, 'g', label='Training loss')\n",
    "plt.plot(epoch, val_loss, 'b:', label='Validation loss')\n",
    "plt.title('Training and validation loss')\n",
    "plt.legend()\n",
    "plt.show()"
   ]
  },
  {
   "cell_type": "code",
   "execution_count": 11,
   "metadata": {},
   "outputs": [
    {
     "name": "stdout",
     "output_type": "stream",
     "text": [
      "Classification Report: TRAIN\n",
      "\n",
      "               precision    recall  f1-score   support\n",
      "\n",
      "           0       1.00      0.98      0.99      5923\n",
      "           1       0.99      0.99      0.99      6742\n",
      "           2       0.97      0.99      0.98      5958\n",
      "           3       0.99      0.97      0.98      6131\n",
      "           4       0.99      0.99      0.99      5842\n",
      "           5       0.97      0.99      0.98      5421\n",
      "           6       0.99      0.99      0.99      5918\n",
      "           7       0.99      0.98      0.98      6265\n",
      "           8       0.97      0.98      0.98      5851\n",
      "           9       0.98      0.97      0.98      5949\n",
      "\n",
      "    accuracy                           0.98     60000\n",
      "   macro avg       0.98      0.98      0.98     60000\n",
      "weighted avg       0.98      0.98      0.98     60000\n",
      "\n"
     ]
    }
   ],
   "source": [
    "from sklearn.metrics import classification_report\n",
    "\n",
    "#metrics on TRAIN set\n",
    "y_train_pred = model.predict_classes(train_images)\n",
    "y_train_true = []\n",
    "for i in range(len(train_labels)):\n",
    "    y_train_true.append(np.argmax(train_labels[i]))\n",
    "y_train_true=np.array(y_train_true)\n",
    "\n",
    "target_num = ['0','1', '2', '3', '4', '5', '6', '7', '8', '9']\n",
    "print('Classification Report: TRAIN\\n\\n', classification_report(y_train_true, y_train_pred, target_names=target_num))"
   ]
  },
  {
   "cell_type": "code",
   "execution_count": 12,
   "metadata": {},
   "outputs": [
    {
     "name": "stdout",
     "output_type": "stream",
     "text": [
      "Classification Report: TEST\n",
      "\n",
      "               precision    recall  f1-score   support\n",
      "\n",
      "           0       0.99      0.99      0.99       980\n",
      "           1       0.99      0.99      0.99      1135\n",
      "           2       0.97      0.99      0.98      1032\n",
      "           3       0.99      0.98      0.98      1010\n",
      "           4       0.99      0.98      0.99       982\n",
      "           5       0.97      0.99      0.98       892\n",
      "           6       0.99      0.98      0.99       958\n",
      "           7       0.98      0.98      0.98      1028\n",
      "           8       0.97      0.98      0.97       974\n",
      "           9       0.99      0.97      0.98      1009\n",
      "\n",
      "    accuracy                           0.98     10000\n",
      "   macro avg       0.98      0.98      0.98     10000\n",
      "weighted avg       0.98      0.98      0.98     10000\n",
      "\n"
     ]
    }
   ],
   "source": [
    "#metrics on TEST set\n",
    "y_test_pred = model.predict_classes(test_images)\n",
    "y_test_true = []\n",
    "for i in range(len(test_labels)):\n",
    "    y_test_true.append(np.argmax(test_labels[i]))\n",
    "y_test_true=np.array(y_test_true)\n",
    "\n",
    "target_num = ['0','1', '2', '3', '4', '5', '6', '7', '8', '9']\n",
    "print('Classification Report: TEST\\n\\n',classification_report(y_test_true, y_test_pred, target_names=target_num))"
   ]
  }
 ],
 "metadata": {
  "kernelspec": {
   "display_name": "Python 3",
   "language": "python",
   "name": "python3"
  },
  "language_info": {
   "codemirror_mode": {
    "name": "ipython",
    "version": 3
   },
   "file_extension": ".py",
   "mimetype": "text/x-python",
   "name": "python",
   "nbconvert_exporter": "python",
   "pygments_lexer": "ipython3",
   "version": "3.7.4"
  }
 },
 "nbformat": 4,
 "nbformat_minor": 2
}
