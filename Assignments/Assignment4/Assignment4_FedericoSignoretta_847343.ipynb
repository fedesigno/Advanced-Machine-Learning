{
  "nbformat": 4,
  "nbformat_minor": 0,
  "metadata": {
    "accelerator": "GPU",
    "colab": {
      "name": "Assignment4_FedericoSignoretta_847343.ipynb",
      "provenance": [],
      "collapsed_sections": []
    },
    "kernelspec": {
      "display_name": "Python 3",
      "language": "python",
      "name": "python3"
    },
    "language_info": {
      "codemirror_mode": {
        "name": "ipython",
        "version": 3
      },
      "file_extension": ".py",
      "mimetype": "text/x-python",
      "name": "python",
      "nbconvert_exporter": "python",
      "pygments_lexer": "ipython3",
      "version": "3.7.4"
    }
  },
  "cells": [
    {
      "cell_type": "code",
      "metadata": {
        "id": "2BFU9ol89rTg",
        "colab_type": "code",
        "colab": {}
      },
      "source": [
        "# the Intel Images Classification is available at this link https://www.kaggle.com/puneet6060/intel-image-classification"
      ],
      "execution_count": 0,
      "outputs": []
    },
    {
      "cell_type": "code",
      "metadata": {
        "id": "DR7-y_2JfwUm",
        "colab_type": "code",
        "outputId": "1a64ba7f-5ba8-469f-ec31-984fd6d34244",
        "colab": {
          "base_uri": "https://localhost:8080/",
          "height": 102
        }
      },
      "source": [
        "!pip install hypopt"
      ],
      "execution_count": 0,
      "outputs": [
        {
          "output_type": "stream",
          "text": [
            "Requirement already satisfied: hypopt in /usr/local/lib/python3.6/dist-packages (1.0.9)\n",
            "Requirement already satisfied: scikit-learn>=0.18 in /usr/local/lib/python3.6/dist-packages (from hypopt) (0.21.3)\n",
            "Requirement already satisfied: numpy>=1.11.3 in /usr/local/lib/python3.6/dist-packages (from hypopt) (1.17.4)\n",
            "Requirement already satisfied: joblib>=0.11 in /usr/local/lib/python3.6/dist-packages (from scikit-learn>=0.18->hypopt) (0.14.0)\n",
            "Requirement already satisfied: scipy>=0.17.0 in /usr/local/lib/python3.6/dist-packages (from scikit-learn>=0.18->hypopt) (1.3.2)\n"
          ],
          "name": "stdout"
        }
      ]
    },
    {
      "cell_type": "code",
      "metadata": {
        "id": "RsxytfaltFzx",
        "colab_type": "code",
        "outputId": "cd6bebf6-39a1-438d-84c0-835dba464c2d",
        "colab": {
          "base_uri": "https://localhost:8080/",
          "height": 153
        }
      },
      "source": [
        "!pip install matplotlib==3.1.0"
      ],
      "execution_count": 0,
      "outputs": [
        {
          "output_type": "stream",
          "text": [
            "Requirement already satisfied: matplotlib==3.1.0 in /usr/local/lib/python3.6/dist-packages (3.1.0)\n",
            "Requirement already satisfied: numpy>=1.11 in /usr/local/lib/python3.6/dist-packages (from matplotlib==3.1.0) (1.17.4)\n",
            "Requirement already satisfied: python-dateutil>=2.1 in /usr/local/lib/python3.6/dist-packages (from matplotlib==3.1.0) (2.6.1)\n",
            "Requirement already satisfied: kiwisolver>=1.0.1 in /usr/local/lib/python3.6/dist-packages (from matplotlib==3.1.0) (1.1.0)\n",
            "Requirement already satisfied: cycler>=0.10 in /usr/local/lib/python3.6/dist-packages (from matplotlib==3.1.0) (0.10.0)\n",
            "Requirement already satisfied: pyparsing!=2.0.4,!=2.1.2,!=2.1.6,>=2.0.1 in /usr/local/lib/python3.6/dist-packages (from matplotlib==3.1.0) (2.4.5)\n",
            "Requirement already satisfied: six>=1.5 in /usr/local/lib/python3.6/dist-packages (from python-dateutil>=2.1->matplotlib==3.1.0) (1.12.0)\n",
            "Requirement already satisfied: setuptools in /usr/local/lib/python3.6/dist-packages (from kiwisolver>=1.0.1->matplotlib==3.1.0) (41.6.0)\n"
          ],
          "name": "stdout"
        }
      ]
    },
    {
      "cell_type": "code",
      "metadata": {
        "id": "P8Yjf1l_fwUy",
        "colab_type": "code",
        "outputId": "7840e26a-0ccb-4f6f-c835-efcddbe641ce",
        "colab": {
          "base_uri": "https://localhost:8080/",
          "height": 34
        }
      },
      "source": [
        "from google.colab import drive\n",
        "drive.mount('/content/drive')"
      ],
      "execution_count": 0,
      "outputs": [
        {
          "output_type": "stream",
          "text": [
            "Drive already mounted at /content/drive; to attempt to forcibly remount, call drive.mount(\"/content/drive\", force_remount=True).\n"
          ],
          "name": "stdout"
        }
      ]
    },
    {
      "cell_type": "code",
      "metadata": {
        "id": "_jNieJKDNjh0",
        "colab_type": "code",
        "colab": {}
      },
      "source": [
        "import zipfile\n",
        "\n",
        "with zipfile.ZipFile('/content/drive/My Drive/intel-image-classification.zip', 'r') as zip_ref:\n",
        "    zip_ref.extractall('/content/intel-image-classification')"
      ],
      "execution_count": 0,
      "outputs": []
    },
    {
      "cell_type": "markdown",
      "metadata": {
        "id": "nahOP27RKkKc",
        "colab_type": "text"
      },
      "source": [
        "# **Libraries**"
      ]
    },
    {
      "cell_type": "code",
      "metadata": {
        "colab_type": "code",
        "id": "dznlBbKLFQ3g",
        "outputId": "8cbde408-153a-4521-c69a-de5722e51cd3",
        "colab": {
          "base_uri": "https://localhost:8080/",
          "height": 80
        }
      },
      "source": [
        "import os\n",
        "import numpy as np\n",
        "import pandas as pd\n",
        "import matplotlib.pyplot as plt\n",
        "import seaborn as sns\n",
        "import pylab as pl\n",
        "\n",
        "# Importing sklearn libraries\n",
        "from sklearn.model_selection import GridSearchCV, train_test_split\n",
        "from sklearn.linear_model import LogisticRegression\n",
        "from sklearn.metrics import confusion_matrix, accuracy_score\n",
        "\n",
        "# Importing hypopt library for grid search \n",
        "from hypopt import GridSearch\n",
        "\n",
        "# Importing Keras libraries \n",
        "from keras.utils import np_utils\n",
        "from keras.models import Sequential\n",
        "from keras.applications import VGG16\n",
        "from keras.applications import imagenet_utils\n",
        "from keras.callbacks import ModelCheckpoint\n",
        "from keras.preprocessing.image import load_img\n",
        "from keras.preprocessing.image import img_to_array\n",
        "from keras.layers import Dense, Conv2D, MaxPooling2D\n",
        "from keras.layers import Dropout, Flatten, GlobalAveragePooling2D, MaxPooling2D\n",
        "from keras.preprocessing import image\n",
        "from keras.applications.vgg16 import preprocess_input\n",
        "\n",
        "from keras.utils.vis_utils import model_to_dot\n",
        "import cv2\n",
        "from sklearn.utils import shuffle\n",
        "from sklearn.metrics import confusion_matrix\n",
        "from random import randint\n",
        "from IPython.display import SVG\n",
        "import matplotlib.gridspec as gridspec\n",
        "from scipy import ndimage\n",
        "import random\n",
        "import warnings\n",
        "warnings.filterwarnings('ignore')"
      ],
      "execution_count": 0,
      "outputs": [
        {
          "output_type": "stream",
          "text": [
            "Using TensorFlow backend.\n"
          ],
          "name": "stderr"
        },
        {
          "output_type": "display_data",
          "data": {
            "text/html": [
              "<p style=\"color: red;\">\n",
              "The default version of TensorFlow in Colab will soon switch to TensorFlow 2.x.<br>\n",
              "We recommend you <a href=\"https://www.tensorflow.org/guide/migrate\" target=\"_blank\">upgrade</a> now \n",
              "or ensure your notebook will continue to use TensorFlow 1.x via the <code>%tensorflow_version 1.x</code> magic:\n",
              "<a href=\"https://colab.research.google.com/notebooks/tensorflow_version.ipynb\" target=\"_blank\">more info</a>.</p>\n"
            ],
            "text/plain": [
              "<IPython.core.display.HTML object>"
            ]
          },
          "metadata": {
            "tags": []
          }
        }
      ]
    },
    {
      "cell_type": "markdown",
      "metadata": {
        "id": "OlxtUaZZKq3Z",
        "colab_type": "text"
      },
      "source": [
        "# Functions"
      ]
    },
    {
      "cell_type": "markdown",
      "metadata": {
        "id": "Ojkz385sKu0b",
        "colab_type": "text"
      },
      "source": [
        "### Randomly extraction of a sample of the images"
      ]
    },
    {
      "cell_type": "code",
      "metadata": {
        "id": "LEHPlvNG76b-",
        "colab_type": "code",
        "colab": {}
      },
      "source": [
        "def get_images(directory, N):\n",
        "    \n",
        "  Images = []\n",
        "  Labels = []  # 0 for Building , 1 for forest, 2 for glacier, 3 for mountain, 4 for Sea , 5 for Street\n",
        "  \n",
        "  dict_classes = {\"buildings\": 0, \"forest\":1, \"glacier\":2,\"mountain\":3,\"sea\":4,\"street\":5}\n",
        "  \n",
        "  for labels in os.listdir(directory): \n",
        "\n",
        "    label = dict_classes[labels]\n",
        "    path = []\n",
        "    \n",
        "    image_sample = random.sample(os.listdir(directory+labels), k = int(N/6))\n",
        "    \n",
        "    for random_path in image_sample:\n",
        "      \n",
        "      image = cv2.imread(directory+labels+\"/\"+random_path) #Reading the image (OpenCV)\n",
        "      image = cv2.resize(image,(224,224)) #Resize the image\n",
        "      image = np.expand_dims(image, axis=0)\n",
        "      image = preprocess_input(image)\n",
        "      Images.append(image)\n",
        "      Labels.append(label)\n",
        "        \n",
        "            \n",
        "  return shuffle(Images,Labels,random_state=12345)"
      ],
      "execution_count": 0,
      "outputs": []
    },
    {
      "cell_type": "markdown",
      "metadata": {
        "id": "W82jlFE2LA2E",
        "colab_type": "text"
      },
      "source": [
        "### Getting classes labels"
      ]
    },
    {
      "cell_type": "code",
      "metadata": {
        "id": "XAAt_C6hwwQz",
        "colab_type": "code",
        "colab": {}
      },
      "source": [
        "def get_classlabel(class_code):\n",
        "    \n",
        "    labels = {\"buildings\": 0, \"forest\":1, \"glacier\":2,\"mountain\":3,\"sea\":4,\"street\":5}\n",
        "    \n",
        "    return labels[class_code]"
      ],
      "execution_count": 0,
      "outputs": []
    },
    {
      "cell_type": "markdown",
      "metadata": {
        "id": "omAMnZ5tLUVu",
        "colab_type": "text"
      },
      "source": [
        "### Features extraction "
      ]
    },
    {
      "cell_type": "code",
      "metadata": {
        "id": "BOfeeDPMdieO",
        "colab_type": "code",
        "colab": {}
      },
      "source": [
        "def feature_list(data, model):\n",
        "\n",
        "  feature_list = []\n",
        "\n",
        "  for img_data in data:\n",
        "    \n",
        "    feature = model.predict(img_data)\n",
        "    feature_np = np.array(feature)\n",
        "    feature_list.append(feature_np.flatten())\n",
        " \n",
        "  feature_list_np = np.array(feature_list)\n",
        "  \n",
        "  return  feature_list_np"
      ],
      "execution_count": 0,
      "outputs": []
    },
    {
      "cell_type": "markdown",
      "metadata": {
        "id": "HJZpYoGYMSSI",
        "colab_type": "text"
      },
      "source": [
        "### Grid Serach for parameter optimization (Logistic Regression)"
      ]
    },
    {
      "cell_type": "code",
      "metadata": {
        "id": "UDRgScU2dkQr",
        "colab_type": "code",
        "outputId": "2a2a98b9-2c4a-482b-ddbf-c351886419a6",
        "colab": {
          "base_uri": "https://localhost:8080/",
          "height": 54
        }
      },
      "source": [
        "'''\n",
        "def GridSearch_logistic(feature_list_np, val_features_flatten):\n",
        "\n",
        "  #param_grid = [{'C': [0.1,1,10],'solver': ['newton-cg','lbfgs']}]\n",
        "  param_grid = [{'C': [10],'solver': ['lbfgs']}]\n",
        " \n",
        "# Grid-search all parameter combinations using a validation set.\n",
        "  opt = GridSearch(model = LogisticRegression(class_weight='balanced', multi_class=\"auto\",\n",
        "                          max_iter=200, random_state=1),param_grid = param_grid)\n",
        "  \n",
        "  opt.fit(feature_list_np, train_y, val_features_flatten, val_y, scoring = 'accuracy')\n",
        "\n",
        "  opt.get_best_params()\n",
        "\n",
        "  return opt\n",
        "\n",
        "'''"
      ],
      "execution_count": 0,
      "outputs": [
        {
          "output_type": "execute_result",
          "data": {
            "text/plain": [
              "'\\ndef GridSearch_logistic(feature_list_np, val_features_flatten):\\n\\n  #param_grid = [{\\'C\\': [0.1,1,10],\\'solver\\': [\\'newton-cg\\',\\'lbfgs\\']}]\\n  param_grid = [{\\'C\\': [10],\\'solver\\': [\\'lbfgs\\']}]\\n \\n# Grid-search all parameter combinations using a validation set.\\n  opt = GridSearch(model = LogisticRegression(class_weight=\\'balanced\\', multi_class=\"auto\",\\n                          max_iter=200, random_state=1),param_grid = param_grid)\\n  \\n  opt.fit(feature_list_np, train_y, val_features_flatten, val_y, scoring = \\'accuracy\\')\\n\\n  opt.get_best_params()\\n\\n  return opt\\n\\n'"
            ]
          },
          "metadata": {
            "tags": []
          },
          "execution_count": 9
        }
      ]
    },
    {
      "cell_type": "markdown",
      "metadata": {
        "id": "LkH48EkXMjmv",
        "colab_type": "text"
      },
      "source": [
        "### Predictions and results "
      ]
    },
    {
      "cell_type": "code",
      "metadata": {
        "id": "B7x82YR6dkD2",
        "colab_type": "code",
        "colab": {}
      },
      "source": [
        "def opt_preds(opt, features_flatten, label):\n",
        "\n",
        "  class_labels = [\"buildings\", \"forest\", \"glacier\",\"mountain\",\"sea\",\"street\"] \n",
        "\n",
        "  opt.score(features_flatten, label)\n",
        "  preds = opt.predict(features_flatten)\n",
        "  print(\"\\nAccuracy:: \", accuracy_score(label, preds))\n",
        "  print(\"\\nNumber of correctly identified imgaes: \",\n",
        "        accuracy_score(label, preds, normalize=False),\" out of \", \n",
        "        len(features_flatten),\"\\n\")\n",
        "\n",
        "  %matplotlib inline\n",
        "  matrix = confusion_matrix(label, preds)\n",
        "\n",
        "  plt.figure(figsize=(6, 5))\n",
        "  ax = sns.heatmap(matrix,annot=True,cbar=True,cmap=\"YlGnBu\", fmt=\"d\")\n",
        "\n",
        "  plt.tight_layout()\n",
        "\n",
        "  locs_x, labels_x=plt.xticks()\n",
        "  x_ticks = []\n",
        "  plt.xticks(locs_x,class_labels, rotation=45)\n",
        "\n",
        "  locs_y, labels_y=plt.yticks()\n",
        "  y_ticks = []\n",
        "  plt.yticks(locs_y,class_labels, rotation=0)\n",
        "\n",
        "\n",
        "  plt.ylabel('True Label')\n",
        "  plt.xlabel('Predicted Label')\n",
        "  plt.title('Confusion Matrix')\n",
        "\n",
        "  plt.show()\n",
        "\n",
        "  return preds"
      ],
      "execution_count": 0,
      "outputs": []
    },
    {
      "cell_type": "markdown",
      "metadata": {
        "id": "U_0G2_uNMunR",
        "colab_type": "text"
      },
      "source": [
        "## Import of images"
      ]
    },
    {
      "cell_type": "markdown",
      "metadata": {
        "id": "EC50gPRbM49B",
        "colab_type": "text"
      },
      "source": [
        "### Train and Test"
      ]
    },
    {
      "cell_type": "code",
      "metadata": {
        "id": "GA9dPsDGfwVL",
        "colab_type": "code",
        "colab": {}
      },
      "source": [
        "train, train_y = get_images('/content/intel-image-classification/seg_train/seg_train/', 2000)\n",
        "test, test_y = get_images('/content/intel-image-classification/seg_test/seg_test/', 1000) \n",
        "\n",
        "\n",
        "#Creating a validation, if we need it\n",
        "\n",
        "#val, val_y = train[-300:], train_y[-300:]\n",
        "#train, train_y = train[:-300], train_y[:-300]"
      ],
      "execution_count": 0,
      "outputs": []
    },
    {
      "cell_type": "code",
      "metadata": {
        "id": "26lEvc_AfwVR",
        "colab_type": "code",
        "outputId": "06c51228-cd8a-4125-89f6-dc754a01cee0",
        "colab": {
          "base_uri": "https://localhost:8080/",
          "height": 329
        }
      },
      "source": [
        "print(\"Training data available in 6 classes\")\n",
        "print([train_y.count(i) for i in range(0,6)])\n",
        "\n",
        "intel_classes = ('Building','Forest','Glacier','Mountain','Sea','Street')\n",
        "\n",
        "y_pos = np.arange(len(intel_classes))\n",
        "counts = [train_y.count(i) for i in range(0,6)]\n",
        "\n",
        "plt.barh(y_pos, counts, align='center', alpha=0.5)\n",
        "plt.yticks(y_pos, intel_classes)\n",
        "plt.xlabel('Counts')\n",
        "plt.title('Train Data Class Distribution')\n",
        "\n",
        "plt.show()"
      ],
      "execution_count": 0,
      "outputs": [
        {
          "output_type": "stream",
          "text": [
            "Training data available in 6 classes\n",
            "[333, 333, 333, 333, 333, 333]\n"
          ],
          "name": "stdout"
        },
        {
          "output_type": "display_data",
          "data": {
            "image/png": "[encoded data removed]",
            "text/plain": [
              "<Figure size 432x288 with 1 Axes>"
            ]
          },
          "metadata": {
            "tags": []
          }
        }
      ]
    },
    {
      "cell_type": "code",
      "metadata": {
        "id": "4Xtbb0_JfwVV",
        "colab_type": "code",
        "outputId": "b20d47aa-3645-41e8-a086-ce11c4666571",
        "colab": {
          "base_uri": "https://localhost:8080/",
          "height": 51
        }
      },
      "source": [
        "print(\"Test data available in 6 classes\")\n",
        "[test_y.count(i) for i in range(0,6)]"
      ],
      "execution_count": 0,
      "outputs": [
        {
          "output_type": "stream",
          "text": [
            "Test data available in 6 classes\n"
          ],
          "name": "stdout"
        },
        {
          "output_type": "execute_result",
          "data": {
            "text/plain": [
              "[166, 166, 166, 166, 166, 166]"
            ]
          },
          "metadata": {
            "tags": []
          },
          "execution_count": 13
        }
      ]
    },
    {
      "cell_type": "markdown",
      "metadata": {
        "id": "VE1MI8ItM-4w",
        "colab_type": "text"
      },
      "source": [
        "## **Import of the VGG16 model**\n"
      ]
    },
    {
      "cell_type": "code",
      "metadata": {
        "id": "vKTP2PTBVdHg",
        "colab_type": "code",
        "outputId": "cf651fe9-939f-438b-c979-af471f3e0889",
        "colab": {
          "base_uri": "https://localhost:8080/",
          "height": 377
        }
      },
      "source": [
        "from keras.models import Model\n",
        "\n",
        "model = VGG16(weights=\"imagenet\")"
      ],
      "execution_count": 0,
      "outputs": [
        {
          "output_type": "stream",
          "text": [
            "WARNING:tensorflow:From /usr/local/lib/python3.6/dist-packages/keras/backend/tensorflow_backend.py:66: The name tf.get_default_graph is deprecated. Please use tf.compat.v1.get_default_graph instead.\n",
            "\n",
            "WARNING:tensorflow:From /usr/local/lib/python3.6/dist-packages/keras/backend/tensorflow_backend.py:541: The name tf.placeholder is deprecated. Please use tf.compat.v1.placeholder instead.\n",
            "\n",
            "WARNING:tensorflow:From /usr/local/lib/python3.6/dist-packages/keras/backend/tensorflow_backend.py:4432: The name tf.random_uniform is deprecated. Please use tf.random.uniform instead.\n",
            "\n",
            "WARNING:tensorflow:From /usr/local/lib/python3.6/dist-packages/keras/backend/tensorflow_backend.py:4267: The name tf.nn.max_pool is deprecated. Please use tf.nn.max_pool2d instead.\n",
            "\n",
            "WARNING:tensorflow:From /usr/local/lib/python3.6/dist-packages/keras/backend/tensorflow_backend.py:190: The name tf.get_default_session is deprecated. Please use tf.compat.v1.get_default_session instead.\n",
            "\n",
            "WARNING:tensorflow:From /usr/local/lib/python3.6/dist-packages/keras/backend/tensorflow_backend.py:197: The name tf.ConfigProto is deprecated. Please use tf.compat.v1.ConfigProto instead.\n",
            "\n",
            "WARNING:tensorflow:From /usr/local/lib/python3.6/dist-packages/keras/backend/tensorflow_backend.py:203: The name tf.Session is deprecated. Please use tf.compat.v1.Session instead.\n",
            "\n",
            "WARNING:tensorflow:From /usr/local/lib/python3.6/dist-packages/keras/backend/tensorflow_backend.py:207: The name tf.global_variables is deprecated. Please use tf.compat.v1.global_variables instead.\n",
            "\n",
            "WARNING:tensorflow:From /usr/local/lib/python3.6/dist-packages/keras/backend/tensorflow_backend.py:216: The name tf.is_variable_initialized is deprecated. Please use tf.compat.v1.is_variable_initialized instead.\n",
            "\n",
            "WARNING:tensorflow:From /usr/local/lib/python3.6/dist-packages/keras/backend/tensorflow_backend.py:223: The name tf.variables_initializer is deprecated. Please use tf.compat.v1.variables_initializer instead.\n",
            "\n"
          ],
          "name": "stdout"
        }
      ]
    },
    {
      "cell_type": "markdown",
      "metadata": {
        "id": "cvUgnjpKJRvm",
        "colab_type": "text"
      },
      "source": [
        "## First experiment: VGG16 up to block4_pool (MaxPooling2D)"
      ]
    },
    {
      "cell_type": "code",
      "metadata": {
        "id": "n-vToA-CfwVZ",
        "colab_type": "code",
        "outputId": "f7fbe22e-b8d9-4df5-b0fa-644629216dc5",
        "colab": {
          "base_uri": "https://localhost:8080/",
          "height": 663
        }
      },
      "source": [
        "model_1 = Model(model.input, model.layers[-9].output)\n",
        "model_1.summary()"
      ],
      "execution_count": 0,
      "outputs": [
        {
          "output_type": "stream",
          "text": [
            "Model: \"model_1\"\n",
            "_________________________________________________________________\n",
            "Layer (type)                 Output Shape              Param #   \n",
            "=================================================================\n",
            "input_1 (InputLayer)         (None, 224, 224, 3)       0         \n",
            "_________________________________________________________________\n",
            "block1_conv1 (Conv2D)        (None, 224, 224, 64)      1792      \n",
            "_________________________________________________________________\n",
            "block1_conv2 (Conv2D)        (None, 224, 224, 64)      36928     \n",
            "_________________________________________________________________\n",
            "block1_pool (MaxPooling2D)   (None, 112, 112, 64)      0         \n",
            "_________________________________________________________________\n",
            "block2_conv1 (Conv2D)        (None, 112, 112, 128)     73856     \n",
            "_________________________________________________________________\n",
            "block2_conv2 (Conv2D)        (None, 112, 112, 128)     147584    \n",
            "_________________________________________________________________\n",
            "block2_pool (MaxPooling2D)   (None, 56, 56, 128)       0         \n",
            "_________________________________________________________________\n",
            "block3_conv1 (Conv2D)        (None, 56, 56, 256)       295168    \n",
            "_________________________________________________________________\n",
            "block3_conv2 (Conv2D)        (None, 56, 56, 256)       590080    \n",
            "_________________________________________________________________\n",
            "block3_conv3 (Conv2D)        (None, 56, 56, 256)       590080    \n",
            "_________________________________________________________________\n",
            "block3_pool (MaxPooling2D)   (None, 28, 28, 256)       0         \n",
            "_________________________________________________________________\n",
            "block4_conv1 (Conv2D)        (None, 28, 28, 512)       1180160   \n",
            "_________________________________________________________________\n",
            "block4_conv2 (Conv2D)        (None, 28, 28, 512)       2359808   \n",
            "_________________________________________________________________\n",
            "block4_conv3 (Conv2D)        (None, 28, 28, 512)       2359808   \n",
            "_________________________________________________________________\n",
            "block4_pool (MaxPooling2D)   (None, 14, 14, 512)       0         \n",
            "=================================================================\n",
            "Total params: 7,635,264\n",
            "Trainable params: 7,635,264\n",
            "Non-trainable params: 0\n",
            "_________________________________________________________________\n"
          ],
          "name": "stdout"
        }
      ]
    },
    {
      "cell_type": "code",
      "metadata": {
        "id": "x2oOoKWOfwVb",
        "colab_type": "code",
        "colab": {}
      },
      "source": [
        "train_feature_list_np = feature_list(train, model_1)\n",
        "#val_features_flatten = feature_list(val, model_1)\n",
        "test_features_flatten = feature_list(test, model_1)"
      ],
      "execution_count": 0,
      "outputs": []
    },
    {
      "cell_type": "code",
      "metadata": {
        "id": "DIoeUrrlZtDy",
        "colab_type": "code",
        "colab": {}
      },
      "source": [
        "from sklearn.linear_model import LogisticRegression\n",
        "\n",
        "clf = LogisticRegression(random_state=1234, \n",
        "                         solver='newton-cg', \n",
        "                         multi_class='multinomial',\n",
        "                         max_iter=200)"
      ],
      "execution_count": 0,
      "outputs": []
    },
    {
      "cell_type": "code",
      "metadata": {
        "id": "D65rNg-ijaRc",
        "colab_type": "code",
        "colab": {}
      },
      "source": [
        "clf_fit = clf.fit(train_feature_list_np, train_y)"
      ],
      "execution_count": 0,
      "outputs": []
    },
    {
      "cell_type": "code",
      "metadata": {
        "id": "ZLvGFyxifwVi",
        "colab_type": "code",
        "colab": {}
      },
      "source": [
        "#opt = GridSearch_logistic(train_feature_list_np, val_features_flatten)"
      ],
      "execution_count": 0,
      "outputs": []
    },
    {
      "cell_type": "code",
      "metadata": {
        "id": "GTv15I6AwEQ1",
        "colab_type": "code",
        "outputId": "cd344975-7a0e-4a4b-cd57-61a0bd69c45f",
        "colab": {
          "base_uri": "https://localhost:8080/",
          "height": 515
        }
      },
      "source": [
        "preds = opt_preds(clf_fit, test_features_flatten, test_y)"
      ],
      "execution_count": 0,
      "outputs": [
        {
          "output_type": "stream",
          "text": [
            "\n",
            "Accuracy::  0.8755020080321285\n",
            "\n",
            "Number of correctly identified imgaes:  872  out of  996 \n",
            "\n"
          ],
          "name": "stdout"
        },
        {
          "output_type": "display_data",
          "data": {
            "image/png": "[encoded data removed]",
            "text/plain": [
              "<Figure size 432x360 with 2 Axes>"
            ]
          },
          "metadata": {
            "tags": []
          }
        }
      ]
    },
    {
      "cell_type": "code",
      "metadata": {
        "id": "a4fYSfAavuyo",
        "colab_type": "code",
        "outputId": "153f5849-4cec-4ab2-9b62-75034403084c",
        "colab": {
          "base_uri": "https://localhost:8080/",
          "height": 515
        }
      },
      "source": [
        "preds_train = opt_preds(clf_fit, train_feature_list_np, train_y)"
      ],
      "execution_count": 0,
      "outputs": [
        {
          "output_type": "stream",
          "text": [
            "\n",
            "Accuracy::  1.0\n",
            "\n",
            "Number of correctly identified imgaes:  1998  out of  1998 \n",
            "\n"
          ],
          "name": "stdout"
        },
        {
          "output_type": "display_data",
          "data": {
            "image/png": "[encoded data removed]",
            "text/plain": [
              "<Figure size 432x360 with 2 Axes>"
            ]
          },
          "metadata": {
            "tags": []
          }
        }
      ]
    },
    {
      "cell_type": "code",
      "metadata": {
        "scrolled": true,
        "id": "jAcl_unwfwVo",
        "colab_type": "code",
        "outputId": "cbdecca1-3425-4082-e75d-e7e3fe34d7a2",
        "colab": {
          "base_uri": "https://localhost:8080/",
          "height": 510
        }
      },
      "source": [
        "from sklearn.metrics import classification_report\n",
        "print(\"Results on Test \\n\", classification_report(test_y, preds, target_names=intel_classes))\n",
        "print(\" \\nResults on Train \\n\", classification_report(train_y, preds_train, target_names=intel_classes))"
      ],
      "execution_count": 0,
      "outputs": [
        {
          "output_type": "stream",
          "text": [
            "Results on Test \n",
            "               precision    recall  f1-score   support\n",
            "\n",
            "    Building       0.90      0.89      0.89       166\n",
            "      Forest       0.96      0.98      0.97       166\n",
            "     Glacier       0.83      0.79      0.81       166\n",
            "    Mountain       0.80      0.80      0.80       166\n",
            "         Sea       0.87      0.92      0.89       166\n",
            "      Street       0.89      0.89      0.89       166\n",
            "\n",
            "    accuracy                           0.88       996\n",
            "   macro avg       0.87      0.88      0.88       996\n",
            "weighted avg       0.87      0.88      0.88       996\n",
            "\n",
            " \n",
            "Results on Train \n",
            "               precision    recall  f1-score   support\n",
            "\n",
            "    Building       1.00      1.00      1.00       333\n",
            "      Forest       1.00      1.00      1.00       333\n",
            "     Glacier       1.00      1.00      1.00       333\n",
            "    Mountain       1.00      1.00      1.00       333\n",
            "         Sea       1.00      1.00      1.00       333\n",
            "      Street       1.00      1.00      1.00       333\n",
            "\n",
            "    accuracy                           1.00      1998\n",
            "   macro avg       1.00      1.00      1.00      1998\n",
            "weighted avg       1.00      1.00      1.00      1998\n",
            "\n"
          ],
          "name": "stdout"
        }
      ]
    },
    {
      "cell_type": "markdown",
      "metadata": {
        "id": "XoAONvIKKP_H",
        "colab_type": "text"
      },
      "source": [
        "## Second experiment: VGG16 up to block5_pool (MaxPooling2D)"
      ]
    },
    {
      "cell_type": "code",
      "metadata": {
        "id": "miYecrA2fwVs",
        "colab_type": "code",
        "outputId": "241384f7-dfbb-4e55-bd1e-aba40c0fad50",
        "colab": {
          "base_uri": "https://localhost:8080/",
          "height": 799
        }
      },
      "source": [
        "model_2 = Model(model.input, model.layers[-5].output)\n",
        "model_2.summary()"
      ],
      "execution_count": 0,
      "outputs": [
        {
          "output_type": "stream",
          "text": [
            "Model: \"model_2\"\n",
            "_________________________________________________________________\n",
            "Layer (type)                 Output Shape              Param #   \n",
            "=================================================================\n",
            "input_1 (InputLayer)         (None, 224, 224, 3)       0         \n",
            "_________________________________________________________________\n",
            "block1_conv1 (Conv2D)        (None, 224, 224, 64)      1792      \n",
            "_________________________________________________________________\n",
            "block1_conv2 (Conv2D)        (None, 224, 224, 64)      36928     \n",
            "_________________________________________________________________\n",
            "block1_pool (MaxPooling2D)   (None, 112, 112, 64)      0         \n",
            "_________________________________________________________________\n",
            "block2_conv1 (Conv2D)        (None, 112, 112, 128)     73856     \n",
            "_________________________________________________________________\n",
            "block2_conv2 (Conv2D)        (None, 112, 112, 128)     147584    \n",
            "_________________________________________________________________\n",
            "block2_pool (MaxPooling2D)   (None, 56, 56, 128)       0         \n",
            "_________________________________________________________________\n",
            "block3_conv1 (Conv2D)        (None, 56, 56, 256)       295168    \n",
            "_________________________________________________________________\n",
            "block3_conv2 (Conv2D)        (None, 56, 56, 256)       590080    \n",
            "_________________________________________________________________\n",
            "block3_conv3 (Conv2D)        (None, 56, 56, 256)       590080    \n",
            "_________________________________________________________________\n",
            "block3_pool (MaxPooling2D)   (None, 28, 28, 256)       0         \n",
            "_________________________________________________________________\n",
            "block4_conv1 (Conv2D)        (None, 28, 28, 512)       1180160   \n",
            "_________________________________________________________________\n",
            "block4_conv2 (Conv2D)        (None, 28, 28, 512)       2359808   \n",
            "_________________________________________________________________\n",
            "block4_conv3 (Conv2D)        (None, 28, 28, 512)       2359808   \n",
            "_________________________________________________________________\n",
            "block4_pool (MaxPooling2D)   (None, 14, 14, 512)       0         \n",
            "_________________________________________________________________\n",
            "block5_conv1 (Conv2D)        (None, 14, 14, 512)       2359808   \n",
            "_________________________________________________________________\n",
            "block5_conv2 (Conv2D)        (None, 14, 14, 512)       2359808   \n",
            "_________________________________________________________________\n",
            "block5_conv3 (Conv2D)        (None, 14, 14, 512)       2359808   \n",
            "_________________________________________________________________\n",
            "block5_pool (MaxPooling2D)   (None, 7, 7, 512)         0         \n",
            "=================================================================\n",
            "Total params: 14,714,688\n",
            "Trainable params: 14,714,688\n",
            "Non-trainable params: 0\n",
            "_________________________________________________________________\n"
          ],
          "name": "stdout"
        }
      ]
    },
    {
      "cell_type": "code",
      "metadata": {
        "id": "Ln9WqvtvfwVv",
        "colab_type": "code",
        "colab": {}
      },
      "source": [
        "train_feature_list_np_2 = feature_list(train, model_2)\n",
        "#val_features_flatten_2 = feature_list(val, model_2)\n",
        "test_features_flatten_2 = feature_list(test, model_2)"
      ],
      "execution_count": 0,
      "outputs": []
    },
    {
      "cell_type": "code",
      "metadata": {
        "id": "ifw5ZtTekOHP",
        "colab_type": "code",
        "colab": {}
      },
      "source": [
        "clf_fit_2 = clf.fit(train_feature_list_np_2, train_y)"
      ],
      "execution_count": 0,
      "outputs": []
    },
    {
      "cell_type": "code",
      "metadata": {
        "id": "Ai5r0IBcfwV4",
        "colab_type": "code",
        "colab": {}
      },
      "source": [
        "#opt_2 = GridSearch_logistic(train_feature_list_np_2, val_features_flatten_2)"
      ],
      "execution_count": 0,
      "outputs": []
    },
    {
      "cell_type": "code",
      "metadata": {
        "id": "8pjjLhkWfwV9",
        "colab_type": "code",
        "outputId": "c56ece66-400f-46db-bf47-c3ad9c755b45",
        "colab": {
          "base_uri": "https://localhost:8080/",
          "height": 515
        }
      },
      "source": [
        "preds_2 = opt_preds(clf_fit_2, test_features_flatten_2, test_y)"
      ],
      "execution_count": 0,
      "outputs": [
        {
          "output_type": "stream",
          "text": [
            "\n",
            "Accuracy::  0.8985943775100401\n",
            "\n",
            "Number of correctly identified imgaes:  895  out of  996 \n",
            "\n"
          ],
          "name": "stdout"
        },
        {
          "output_type": "display_data",
          "data": {
            "image/png": "[encoded data removed]",
            "text/plain": [
              "<Figure size 432x360 with 2 Axes>"
            ]
          },
          "metadata": {
            "tags": []
          }
        }
      ]
    },
    {
      "cell_type": "code",
      "metadata": {
        "id": "j4EqF6MAw4jC",
        "colab_type": "code",
        "outputId": "ddf79ef7-0c3d-4de2-efce-06f4fc7db4f9",
        "colab": {
          "base_uri": "https://localhost:8080/",
          "height": 515
        }
      },
      "source": [
        "preds_2_train = opt_preds(clf_fit_2, train_feature_list_np_2, train_y)"
      ],
      "execution_count": 0,
      "outputs": [
        {
          "output_type": "stream",
          "text": [
            "\n",
            "Accuracy::  1.0\n",
            "\n",
            "Number of correctly identified imgaes:  1998  out of  1998 \n",
            "\n"
          ],
          "name": "stdout"
        },
        {
          "output_type": "display_data",
          "data": {
            "image/png": "[encoded data removed]",
            "text/plain": [
              "<Figure size 432x360 with 2 Axes>"
            ]
          },
          "metadata": {
            "tags": []
          }
        }
      ]
    },
    {
      "cell_type": "code",
      "metadata": {
        "id": "LEHwAVahfwWC",
        "colab_type": "code",
        "outputId": "5f9983e0-692a-43dc-9999-d5433ab67c41",
        "colab": {
          "base_uri": "https://localhost:8080/",
          "height": 510
        }
      },
      "source": [
        "print(\"Results on Test \\n\", classification_report(test_y, preds_2, target_names=intel_classes))\n",
        "print(\" \\nResults on Train \\n\", classification_report(train_y, preds_2_train, target_names=intel_classes))"
      ],
      "execution_count": 0,
      "outputs": [
        {
          "output_type": "stream",
          "text": [
            "Results on Test \n",
            "               precision    recall  f1-score   support\n",
            "\n",
            "    Building       0.93      0.92      0.92       166\n",
            "      Forest       0.98      0.99      0.99       166\n",
            "     Glacier       0.84      0.81      0.83       166\n",
            "    Mountain       0.85      0.83      0.84       166\n",
            "         Sea       0.89      0.93      0.91       166\n",
            "      Street       0.90      0.91      0.91       166\n",
            "\n",
            "    accuracy                           0.90       996\n",
            "   macro avg       0.90      0.90      0.90       996\n",
            "weighted avg       0.90      0.90      0.90       996\n",
            "\n",
            " \n",
            "Results on Train \n",
            "               precision    recall  f1-score   support\n",
            "\n",
            "    Building       1.00      1.00      1.00       333\n",
            "      Forest       1.00      1.00      1.00       333\n",
            "     Glacier       1.00      1.00      1.00       333\n",
            "    Mountain       1.00      1.00      1.00       333\n",
            "         Sea       1.00      1.00      1.00       333\n",
            "      Street       1.00      1.00      1.00       333\n",
            "\n",
            "    accuracy                           1.00      1998\n",
            "   macro avg       1.00      1.00      1.00      1998\n",
            "weighted avg       1.00      1.00      1.00      1998\n",
            "\n"
          ],
          "name": "stdout"
        }
      ]
    },
    {
      "cell_type": "markdown",
      "metadata": {
        "id": "2BY7vku-KVm6",
        "colab_type": "text"
      },
      "source": [
        "## Third experiment: VGG16 up to fc1 (Dense)"
      ]
    },
    {
      "cell_type": "code",
      "metadata": {
        "id": "qD0R8dFNfwWD",
        "colab_type": "code",
        "outputId": "cb2c9a73-765f-4439-d5b2-a8c26623acee",
        "colab": {
          "base_uri": "https://localhost:8080/",
          "height": 867
        }
      },
      "source": [
        "model_3 = Model(model.input, model.layers[-3].output)\n",
        "model_3.summary()"
      ],
      "execution_count": 0,
      "outputs": [
        {
          "output_type": "stream",
          "text": [
            "Model: \"model_3\"\n",
            "_________________________________________________________________\n",
            "Layer (type)                 Output Shape              Param #   \n",
            "=================================================================\n",
            "input_1 (InputLayer)         (None, 224, 224, 3)       0         \n",
            "_________________________________________________________________\n",
            "block1_conv1 (Conv2D)        (None, 224, 224, 64)      1792      \n",
            "_________________________________________________________________\n",
            "block1_conv2 (Conv2D)        (None, 224, 224, 64)      36928     \n",
            "_________________________________________________________________\n",
            "block1_pool (MaxPooling2D)   (None, 112, 112, 64)      0         \n",
            "_________________________________________________________________\n",
            "block2_conv1 (Conv2D)        (None, 112, 112, 128)     73856     \n",
            "_________________________________________________________________\n",
            "block2_conv2 (Conv2D)        (None, 112, 112, 128)     147584    \n",
            "_________________________________________________________________\n",
            "block2_pool (MaxPooling2D)   (None, 56, 56, 128)       0         \n",
            "_________________________________________________________________\n",
            "block3_conv1 (Conv2D)        (None, 56, 56, 256)       295168    \n",
            "_________________________________________________________________\n",
            "block3_conv2 (Conv2D)        (None, 56, 56, 256)       590080    \n",
            "_________________________________________________________________\n",
            "block3_conv3 (Conv2D)        (None, 56, 56, 256)       590080    \n",
            "_________________________________________________________________\n",
            "block3_pool (MaxPooling2D)   (None, 28, 28, 256)       0         \n",
            "_________________________________________________________________\n",
            "block4_conv1 (Conv2D)        (None, 28, 28, 512)       1180160   \n",
            "_________________________________________________________________\n",
            "block4_conv2 (Conv2D)        (None, 28, 28, 512)       2359808   \n",
            "_________________________________________________________________\n",
            "block4_conv3 (Conv2D)        (None, 28, 28, 512)       2359808   \n",
            "_________________________________________________________________\n",
            "block4_pool (MaxPooling2D)   (None, 14, 14, 512)       0         \n",
            "_________________________________________________________________\n",
            "block5_conv1 (Conv2D)        (None, 14, 14, 512)       2359808   \n",
            "_________________________________________________________________\n",
            "block5_conv2 (Conv2D)        (None, 14, 14, 512)       2359808   \n",
            "_________________________________________________________________\n",
            "block5_conv3 (Conv2D)        (None, 14, 14, 512)       2359808   \n",
            "_________________________________________________________________\n",
            "block5_pool (MaxPooling2D)   (None, 7, 7, 512)         0         \n",
            "_________________________________________________________________\n",
            "flatten (Flatten)            (None, 25088)             0         \n",
            "_________________________________________________________________\n",
            "fc1 (Dense)                  (None, 4096)              102764544 \n",
            "=================================================================\n",
            "Total params: 117,479,232\n",
            "Trainable params: 117,479,232\n",
            "Non-trainable params: 0\n",
            "_________________________________________________________________\n"
          ],
          "name": "stdout"
        }
      ]
    },
    {
      "cell_type": "markdown",
      "metadata": {
        "id": "fOGXJya29ozQ",
        "colab_type": "text"
      },
      "source": [
        ""
      ]
    },
    {
      "cell_type": "code",
      "metadata": {
        "id": "SC-8qrrbfwWF",
        "colab_type": "code",
        "colab": {}
      },
      "source": [
        "train_feature_list_np_3 = feature_list(train, model_3)\n",
        "#val_features_flatten_3 = feature_list(val, model_3)\n",
        "test_features_flatten_3 = feature_list(test, model_3)"
      ],
      "execution_count": 0,
      "outputs": []
    },
    {
      "cell_type": "code",
      "metadata": {
        "id": "iYcnzyDqkYnI",
        "colab_type": "code",
        "colab": {}
      },
      "source": [
        "clf_fit_3 = clf.fit(train_feature_list_np_3, train_y)"
      ],
      "execution_count": 0,
      "outputs": []
    },
    {
      "cell_type": "code",
      "metadata": {
        "id": "nHgnZ121fwWN",
        "colab_type": "code",
        "colab": {}
      },
      "source": [
        "#opt_3 = GridSearch_logistic(train_feature_list_np_3, val_features_flatten_3) "
      ],
      "execution_count": 0,
      "outputs": []
    },
    {
      "cell_type": "code",
      "metadata": {
        "id": "PRtttNECfwWO",
        "colab_type": "code",
        "outputId": "8a133530-d2d3-41b9-b1b8-39f379875cb8",
        "colab": {
          "base_uri": "https://localhost:8080/",
          "height": 515
        }
      },
      "source": [
        "preds_3 = opt_preds(clf_fit_3, test_features_flatten_3, test_y)"
      ],
      "execution_count": 0,
      "outputs": [
        {
          "output_type": "stream",
          "text": [
            "\n",
            "Accuracy::  0.8995983935742972\n",
            "\n",
            "Number of correctly identified imgaes:  896  out of  996 \n",
            "\n"
          ],
          "name": "stdout"
        },
        {
          "output_type": "display_data",
          "data": {
            "image/png": "[encoded data removed]",
            "text/plain": [
              "<Figure size 432x360 with 2 Axes>"
            ]
          },
          "metadata": {
            "tags": []
          }
        }
      ]
    },
    {
      "cell_type": "code",
      "metadata": {
        "id": "T_hZOW9wyWJV",
        "colab_type": "code",
        "outputId": "44500f5d-baf1-454a-f057-b66f9939bcb8",
        "colab": {
          "base_uri": "https://localhost:8080/",
          "height": 515
        }
      },
      "source": [
        "preds_3_train = opt_preds(clf_fit_3, train_feature_list_np_3, train_y)"
      ],
      "execution_count": 0,
      "outputs": [
        {
          "output_type": "stream",
          "text": [
            "\n",
            "Accuracy::  1.0\n",
            "\n",
            "Number of correctly identified imgaes:  1998  out of  1998 \n",
            "\n"
          ],
          "name": "stdout"
        },
        {
          "output_type": "display_data",
          "data": {
            "image/png": "[encoded data removed]",
            "text/plain": [
              "<Figure size 432x360 with 2 Axes>"
            ]
          },
          "metadata": {
            "tags": []
          }
        }
      ]
    },
    {
      "cell_type": "code",
      "metadata": {
        "id": "wQumUxN1fwWQ",
        "colab_type": "code",
        "outputId": "169e47b1-606c-4111-cb01-c61a2e60e687",
        "colab": {
          "base_uri": "https://localhost:8080/",
          "height": 510
        }
      },
      "source": [
        "print(\"Results on Test \\n\", classification_report(test_y, preds_3, target_names=intel_classes))\n",
        "print(\" \\nResults on Train \\n\", classification_report(train_y, preds_3_train, target_names=intel_classes))"
      ],
      "execution_count": 0,
      "outputs": [
        {
          "output_type": "stream",
          "text": [
            "Results on Test \n",
            "               precision    recall  f1-score   support\n",
            "\n",
            "    Building       0.93      0.92      0.92       166\n",
            "      Forest       0.98      1.00      0.99       166\n",
            "     Glacier       0.86      0.80      0.83       166\n",
            "    Mountain       0.82      0.83      0.82       166\n",
            "         Sea       0.91      0.94      0.92       166\n",
            "      Street       0.90      0.92      0.91       166\n",
            "\n",
            "    accuracy                           0.90       996\n",
            "   macro avg       0.90      0.90      0.90       996\n",
            "weighted avg       0.90      0.90      0.90       996\n",
            "\n",
            " \n",
            "Results on Train \n",
            "               precision    recall  f1-score   support\n",
            "\n",
            "    Building       1.00      1.00      1.00       333\n",
            "      Forest       1.00      1.00      1.00       333\n",
            "     Glacier       1.00      1.00      1.00       333\n",
            "    Mountain       1.00      1.00      1.00       333\n",
            "         Sea       1.00      1.00      1.00       333\n",
            "      Street       1.00      1.00      1.00       333\n",
            "\n",
            "    accuracy                           1.00      1998\n",
            "   macro avg       1.00      1.00      1.00      1998\n",
            "weighted avg       1.00      1.00      1.00      1998\n",
            "\n"
          ],
          "name": "stdout"
        }
      ]
    }
  ]
}