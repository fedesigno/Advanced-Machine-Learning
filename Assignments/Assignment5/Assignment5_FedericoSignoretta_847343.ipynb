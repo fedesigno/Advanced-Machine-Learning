{
  "nbformat": 4,
  "nbformat_minor": 0,
  "metadata": {
    "kernelspec": {
      "display_name": "Python 3",
      "language": "python",
      "name": "python3"
    },
    "language_info": {
      "codemirror_mode": {
        "name": "ipython",
        "version": 3
      },
      "file_extension": ".py",
      "mimetype": "text/x-python",
      "name": "python",
      "nbconvert_exporter": "python",
      "pygments_lexer": "ipython3",
      "version": "3.7.4"
    },
    "colab": {
      "name": "Assignment_5.ipynb",
      "provenance": [],
      "collapsed_sections": []
    }
  },
  "cells": [
    {
      "cell_type": "code",
      "metadata": {
        "colab_type": "code",
        "id": "zzy2tS2dZ4gP",
        "outputId": "935ba7ba-0f67-4a0a-9466-32d6cc43cc9e",
        "colab": {
          "base_uri": "https://localhost:8080/",
          "height": 786
        }
      },
      "source": [
        "!apt-get install swig\n",
        "!pip install smac[all]"
      ],
      "execution_count": 1,
      "outputs": [
        {
          "output_type": "stream",
          "text": [
            "Reading package lists... Done\n",
            "Building dependency tree       \n",
            "Reading state information... Done\n",
            "swig is already the newest version (3.0.12-1).\n",
            "The following packages were automatically installed and are no longer required:\n",
            "  cuda-cufft-10-1 cuda-cufft-dev-10-1 cuda-curand-10-1 cuda-curand-dev-10-1\n",
            "  cuda-cusolver-10-1 cuda-cusolver-dev-10-1 cuda-cusparse-10-1\n",
            "  cuda-cusparse-dev-10-1 cuda-drivers cuda-license-10-2 cuda-npp-10-1\n",
            "  cuda-npp-dev-10-1 cuda-nsight-10-1 cuda-nsight-compute-10-1\n",
            "  cuda-nsight-systems-10-1 cuda-nvgraph-10-1 cuda-nvgraph-dev-10-1\n",
            "  cuda-nvjpeg-10-1 cuda-nvjpeg-dev-10-1 cuda-nvrtc-10-1 cuda-nvrtc-dev-10-1\n",
            "  cuda-nvvp-10-1 default-jre dkms freeglut3 freeglut3-dev\n",
            "  keyboard-configuration libargon2-0 libcap2 libcryptsetup12 libcublas10\n",
            "  libdevmapper1.02.1 libfontenc1 libgtk2.0-0 libgtk2.0-common libidn11\n",
            "  libip4tc0 libjansson4 libnvidia-cfg1-440 libnvidia-common-430\n",
            "  libnvidia-common-440 libnvidia-decode-440 libnvidia-encode-440\n",
            "  libnvidia-fbc1-440 libnvidia-gl-440 libnvidia-ifr1-440 libpam-systemd\n",
            "  libpolkit-agent-1-0 libpolkit-backend-1-0 libpolkit-gobject-1-0 libxfont2\n",
            "  libxi-dev libxkbfile1 libxmu-dev libxmu-headers libxnvctrl0\n",
            "  nsight-compute-2019.5.0 nsight-systems-2019.5.2 nvidia-compute-utils-440\n",
            "  nvidia-dkms-440 nvidia-driver-440 nvidia-kernel-common-440\n",
            "  nvidia-kernel-source-440 nvidia-modprobe nvidia-settings nvidia-utils-440\n",
            "  openjdk-11-jre policykit-1 policykit-1-gnome python3-xkit\n",
            "  screen-resolution-extra systemd systemd-sysv udev x11-xkb-utils\n",
            "  xserver-common xserver-xorg-core-hwe-18.04 xserver-xorg-video-nvidia-440\n",
            "Use 'apt autoremove' to remove them.\n",
            "0 upgraded, 0 newly installed, 0 to remove and 5 not upgraded.\n",
            "Requirement already satisfied: smac[all] in /usr/local/lib/python3.6/dist-packages (0.11.1)\n",
            "Requirement already satisfied: sobol-seq in /usr/local/lib/python3.6/dist-packages (from smac[all]) (0.1.2)\n",
            "Requirement already satisfied: numpy>=1.7.1 in /usr/local/lib/python3.6/dist-packages (from smac[all]) (1.17.4)\n",
            "Requirement already satisfied: pyrfr>=0.8.0 in /usr/local/lib/python3.6/dist-packages (from smac[all]) (0.8.0)\n",
            "Requirement already satisfied: pynisher>=0.4.1 in /usr/local/lib/python3.6/dist-packages (from smac[all]) (0.5.0)\n",
            "Requirement already satisfied: joblib in /usr/local/lib/python3.6/dist-packages (from smac[all]) (0.14.0)\n",
            "Requirement already satisfied: ConfigSpace<0.5,>=0.4.6 in /usr/local/lib/python3.6/dist-packages (from smac[all]) (0.4.11)\n",
            "Requirement already satisfied: psutil in /usr/local/lib/python3.6/dist-packages (from smac[all]) (5.4.8)\n",
            "Requirement already satisfied: scipy>=0.18.1 in /usr/local/lib/python3.6/dist-packages (from smac[all]) (1.3.3)\n",
            "Requirement already satisfied: scikit-learn>=0.18.0 in /usr/local/lib/python3.6/dist-packages (from smac[all]) (0.21.3)\n",
            "Requirement already satisfied: lazy-import in /usr/local/lib/python3.6/dist-packages (from smac[all]) (0.2.2)\n",
            "Requirement already satisfied: emcee>=2.1.0; extra == \"all\" in /usr/local/lib/python3.6/dist-packages (from smac[all]) (3.0.2)\n",
            "Requirement already satisfied: pyDOE; extra == \"all\" in /usr/local/lib/python3.6/dist-packages (from smac[all]) (0.3.8)\n",
            "Requirement already satisfied: scikit-optimize; extra == \"all\" in /usr/local/lib/python3.6/dist-packages (from smac[all]) (0.5.2)\n",
            "Requirement already satisfied: docutils>=0.3 in /usr/local/lib/python3.6/dist-packages (from pynisher>=0.4.1->smac[all]) (0.15.2)\n",
            "Requirement already satisfied: setuptools in /usr/local/lib/python3.6/dist-packages (from pynisher>=0.4.1->smac[all]) (42.0.1)\n",
            "Requirement already satisfied: cython in /usr/local/lib/python3.6/dist-packages (from ConfigSpace<0.5,>=0.4.6->smac[all]) (0.29.14)\n",
            "Requirement already satisfied: pyparsing in /usr/local/lib/python3.6/dist-packages (from ConfigSpace<0.5,>=0.4.6->smac[all]) (2.4.5)\n",
            "Requirement already satisfied: six in /usr/local/lib/python3.6/dist-packages (from lazy-import->smac[all]) (1.12.0)\n"
          ],
          "name": "stdout"
        }
      ]
    },
    {
      "cell_type": "markdown",
      "metadata": {
        "id": "wOEoFBiE0pZQ",
        "colab_type": "text"
      },
      "source": [
        "## Import libraries and data"
      ]
    },
    {
      "cell_type": "code",
      "metadata": {
        "id": "vfztkY-Q2HH9",
        "colab_type": "code",
        "outputId": "b827621b-b61f-4ad0-ec76-167fcd1a79a3",
        "colab": {
          "base_uri": "https://localhost:8080/",
          "height": 33
        }
      },
      "source": [
        "from google.colab import drive\n",
        "\n",
        "drive.mount('/content/drive')"
      ],
      "execution_count": 2,
      "outputs": [
        {
          "output_type": "stream",
          "text": [
            "Drive already mounted at /content/drive; to attempt to forcibly remount, call drive.mount(\"/content/drive\", force_remount=True).\n"
          ],
          "name": "stdout"
        }
      ]
    },
    {
      "cell_type": "code",
      "metadata": {
        "id": "Cjt5PHop0pZb",
        "colab_type": "code",
        "colab": {}
      },
      "source": [
        "import numpy as np\n",
        "from sklearn import svm, datasets\n",
        "from sklearn.model_selection import cross_val_score, StratifiedKFold\n",
        "from sklearn.neural_network import MLPClassifier\n",
        "\n",
        "# Import ConfigSpace and different types of parameters\n",
        "from smac.configspace import ConfigurationSpace\n",
        "from ConfigSpace.hyperparameters import CategoricalHyperparameter, \\\n",
        "    UniformFloatHyperparameter, UniformIntegerHyperparameter\n",
        "from ConfigSpace.conditions import InCondition\n",
        "\n",
        "# Import SMAC-utilities\n",
        "from smac.tae.execute_func import ExecuteTAFuncDict\n",
        "from smac.scenario.scenario import Scenario\n",
        "from smac.facade.smac_hpo_facade import SMAC4HPO\n",
        "from smac.facade.smac_bo_facade import SMAC4BO\n",
        "from smac.configspace import ConfigurationSpace, Configuration\n",
        "\n",
        "from smac.optimizer.acquisition import LCB, EI, PI\n",
        "from smac.initial_design.random_configuration_design import RandomConfigurations\n",
        "from smac.runhistory.runhistory2epm import RunHistory2EPM4InvScaledCost\n",
        "\n",
        "from numpy import genfromtxt\n",
        "import logging\n",
        "\n",
        "import matplotlib.pyplot as plt\n",
        "from scipy.stats import uniform"
      ],
      "execution_count": 0,
      "outputs": []
    },
    {
      "cell_type": "code",
      "metadata": {
        "id": "kK7r9F2Bhmo2",
        "colab_type": "code",
        "colab": {}
      },
      "source": [
        "import warnings\n",
        "warnings.filterwarnings(\"ignore\")"
      ],
      "execution_count": 0,
      "outputs": []
    },
    {
      "cell_type": "code",
      "metadata": {
        "id": "LohSSr4sj7gc",
        "colab_type": "code",
        "outputId": "5818eaf8-3174-4918-cbf7-986873562551",
        "colab": {
          "base_uri": "https://localhost:8080/",
          "height": 67
        }
      },
      "source": [
        "import pandas as pd\n",
        "df = pd.read_csv('/content/drive/My Drive/php9pgo5r.csv')\n",
        "\n",
        "df['Class'].value_counts() "
      ],
      "execution_count": 5,
      "outputs": [
        {
          "output_type": "execute_result",
          "data": {
            "text/plain": [
              "1    88\n",
              "2    12\n",
              "Name: Class, dtype: int64"
            ]
          },
          "metadata": {
            "tags": []
          },
          "execution_count": 5
        }
      ]
    },
    {
      "cell_type": "code",
      "metadata": {
        "id": "WMrZ9vK4rGU5",
        "colab_type": "code",
        "colab": {
          "base_uri": "https://localhost:8080/",
          "height": 404
        },
        "outputId": "4ce8e4b2-5047-4c01-c63d-ed08590e8b3a"
      },
      "source": [
        "df"
      ],
      "execution_count": 6,
      "outputs": [
        {
          "output_type": "execute_result",
          "data": {
            "text/html": [
              "<div>\n",
              "<style scoped>\n",
              "    .dataframe tbody tr th:only-of-type {\n",
              "        vertical-align: middle;\n",
              "    }\n",
              "\n",
              "    .dataframe tbody tr th {\n",
              "        vertical-align: top;\n",
              "    }\n",
              "\n",
              "    .dataframe thead th {\n",
              "        text-align: right;\n",
              "    }\n",
              "</style>\n",
              "<table border=\"1\" class=\"dataframe\">\n",
              "  <thead>\n",
              "    <tr style=\"text-align: right;\">\n",
              "      <th></th>\n",
              "      <th>V1</th>\n",
              "      <th>V2</th>\n",
              "      <th>V3</th>\n",
              "      <th>V4</th>\n",
              "      <th>V5</th>\n",
              "      <th>V6</th>\n",
              "      <th>V7</th>\n",
              "      <th>V8</th>\n",
              "      <th>V9</th>\n",
              "      <th>Class</th>\n",
              "    </tr>\n",
              "  </thead>\n",
              "  <tbody>\n",
              "    <tr>\n",
              "      <th>0</th>\n",
              "      <td>-0.33</td>\n",
              "      <td>0.69</td>\n",
              "      <td>0</td>\n",
              "      <td>1</td>\n",
              "      <td>1</td>\n",
              "      <td>0</td>\n",
              "      <td>0.8</td>\n",
              "      <td>0</td>\n",
              "      <td>0.88</td>\n",
              "      <td>1</td>\n",
              "    </tr>\n",
              "    <tr>\n",
              "      <th>1</th>\n",
              "      <td>-0.33</td>\n",
              "      <td>0.94</td>\n",
              "      <td>1</td>\n",
              "      <td>0</td>\n",
              "      <td>1</td>\n",
              "      <td>0</td>\n",
              "      <td>0.8</td>\n",
              "      <td>1</td>\n",
              "      <td>0.31</td>\n",
              "      <td>2</td>\n",
              "    </tr>\n",
              "    <tr>\n",
              "      <th>2</th>\n",
              "      <td>-0.33</td>\n",
              "      <td>0.50</td>\n",
              "      <td>1</td>\n",
              "      <td>0</td>\n",
              "      <td>0</td>\n",
              "      <td>0</td>\n",
              "      <td>1.0</td>\n",
              "      <td>-1</td>\n",
              "      <td>0.50</td>\n",
              "      <td>1</td>\n",
              "    </tr>\n",
              "    <tr>\n",
              "      <th>3</th>\n",
              "      <td>-0.33</td>\n",
              "      <td>0.75</td>\n",
              "      <td>0</td>\n",
              "      <td>1</td>\n",
              "      <td>1</td>\n",
              "      <td>0</td>\n",
              "      <td>1.0</td>\n",
              "      <td>-1</td>\n",
              "      <td>0.38</td>\n",
              "      <td>1</td>\n",
              "    </tr>\n",
              "    <tr>\n",
              "      <th>4</th>\n",
              "      <td>-0.33</td>\n",
              "      <td>0.67</td>\n",
              "      <td>1</td>\n",
              "      <td>1</td>\n",
              "      <td>0</td>\n",
              "      <td>0</td>\n",
              "      <td>0.8</td>\n",
              "      <td>-1</td>\n",
              "      <td>0.50</td>\n",
              "      <td>2</td>\n",
              "    </tr>\n",
              "    <tr>\n",
              "      <th>...</th>\n",
              "      <td>...</td>\n",
              "      <td>...</td>\n",
              "      <td>...</td>\n",
              "      <td>...</td>\n",
              "      <td>...</td>\n",
              "      <td>...</td>\n",
              "      <td>...</td>\n",
              "      <td>...</td>\n",
              "      <td>...</td>\n",
              "      <td>...</td>\n",
              "    </tr>\n",
              "    <tr>\n",
              "      <th>95</th>\n",
              "      <td>-1.00</td>\n",
              "      <td>0.67</td>\n",
              "      <td>1</td>\n",
              "      <td>0</td>\n",
              "      <td>0</td>\n",
              "      <td>0</td>\n",
              "      <td>1.0</td>\n",
              "      <td>-1</td>\n",
              "      <td>0.50</td>\n",
              "      <td>1</td>\n",
              "    </tr>\n",
              "    <tr>\n",
              "      <th>96</th>\n",
              "      <td>-1.00</td>\n",
              "      <td>0.61</td>\n",
              "      <td>1</td>\n",
              "      <td>0</td>\n",
              "      <td>0</td>\n",
              "      <td>0</td>\n",
              "      <td>0.8</td>\n",
              "      <td>0</td>\n",
              "      <td>0.50</td>\n",
              "      <td>1</td>\n",
              "    </tr>\n",
              "    <tr>\n",
              "      <th>97</th>\n",
              "      <td>-1.00</td>\n",
              "      <td>0.67</td>\n",
              "      <td>1</td>\n",
              "      <td>1</td>\n",
              "      <td>1</td>\n",
              "      <td>0</td>\n",
              "      <td>1.0</td>\n",
              "      <td>-1</td>\n",
              "      <td>0.31</td>\n",
              "      <td>1</td>\n",
              "    </tr>\n",
              "    <tr>\n",
              "      <th>98</th>\n",
              "      <td>-1.00</td>\n",
              "      <td>0.64</td>\n",
              "      <td>1</td>\n",
              "      <td>0</td>\n",
              "      <td>1</td>\n",
              "      <td>0</td>\n",
              "      <td>1.0</td>\n",
              "      <td>0</td>\n",
              "      <td>0.19</td>\n",
              "      <td>1</td>\n",
              "    </tr>\n",
              "    <tr>\n",
              "      <th>99</th>\n",
              "      <td>-1.00</td>\n",
              "      <td>0.69</td>\n",
              "      <td>0</td>\n",
              "      <td>1</td>\n",
              "      <td>1</td>\n",
              "      <td>0</td>\n",
              "      <td>0.6</td>\n",
              "      <td>-1</td>\n",
              "      <td>0.19</td>\n",
              "      <td>1</td>\n",
              "    </tr>\n",
              "  </tbody>\n",
              "</table>\n",
              "<p>100 rows × 10 columns</p>\n",
              "</div>"
            ],
            "text/plain": [
              "      V1    V2  V3  V4  V5  V6   V7  V8    V9  Class\n",
              "0  -0.33  0.69   0   1   1   0  0.8   0  0.88      1\n",
              "1  -0.33  0.94   1   0   1   0  0.8   1  0.31      2\n",
              "2  -0.33  0.50   1   0   0   0  1.0  -1  0.50      1\n",
              "3  -0.33  0.75   0   1   1   0  1.0  -1  0.38      1\n",
              "4  -0.33  0.67   1   1   0   0  0.8  -1  0.50      2\n",
              "..   ...   ...  ..  ..  ..  ..  ...  ..   ...    ...\n",
              "95 -1.00  0.67   1   0   0   0  1.0  -1  0.50      1\n",
              "96 -1.00  0.61   1   0   0   0  0.8   0  0.50      1\n",
              "97 -1.00  0.67   1   1   1   0  1.0  -1  0.31      1\n",
              "98 -1.00  0.64   1   0   1   0  1.0   0  0.19      1\n",
              "99 -1.00  0.69   0   1   1   0  0.6  -1  0.19      1\n",
              "\n",
              "[100 rows x 10 columns]"
            ]
          },
          "metadata": {
            "tags": []
          },
          "execution_count": 6
        }
      ]
    },
    {
      "cell_type": "code",
      "metadata": {
        "id": "uUT5D0jprwE6",
        "colab_type": "code",
        "colab": {
          "base_uri": "https://localhost:8080/",
          "height": 84
        },
        "outputId": "b4b86100-7d3d-4ad4-d37b-4c0968cd81ea"
      },
      "source": [
        "df['V8'].value_counts()"
      ],
      "execution_count": 7,
      "outputs": [
        {
          "output_type": "execute_result",
          "data": {
            "text/plain": [
              "-1    56\n",
              " 0    23\n",
              " 1    21\n",
              "Name: V8, dtype: int64"
            ]
          },
          "metadata": {
            "tags": []
          },
          "execution_count": 7
        }
      ]
    },
    {
      "cell_type": "code",
      "metadata": {
        "id": "mt76Mh8AofkI",
        "colab_type": "code",
        "colab": {
          "base_uri": "https://localhost:8080/",
          "height": 286
        },
        "outputId": "9903cc64-d463-4a62-c3f3-04ec7b324d14"
      },
      "source": [
        "df.drop('Class', axis=1).describe()"
      ],
      "execution_count": 8,
      "outputs": [
        {
          "output_type": "execute_result",
          "data": {
            "text/html": [
              "<div>\n",
              "<style scoped>\n",
              "    .dataframe tbody tr th:only-of-type {\n",
              "        vertical-align: middle;\n",
              "    }\n",
              "\n",
              "    .dataframe tbody tr th {\n",
              "        vertical-align: top;\n",
              "    }\n",
              "\n",
              "    .dataframe thead th {\n",
              "        text-align: right;\n",
              "    }\n",
              "</style>\n",
              "<table border=\"1\" class=\"dataframe\">\n",
              "  <thead>\n",
              "    <tr style=\"text-align: right;\">\n",
              "      <th></th>\n",
              "      <th>V1</th>\n",
              "      <th>V2</th>\n",
              "      <th>V3</th>\n",
              "      <th>V4</th>\n",
              "      <th>V5</th>\n",
              "      <th>V6</th>\n",
              "      <th>V7</th>\n",
              "      <th>V8</th>\n",
              "      <th>V9</th>\n",
              "    </tr>\n",
              "  </thead>\n",
              "  <tbody>\n",
              "    <tr>\n",
              "      <th>count</th>\n",
              "      <td>100.000000</td>\n",
              "      <td>100.000000</td>\n",
              "      <td>100.000000</td>\n",
              "      <td>100.000000</td>\n",
              "      <td>100.000000</td>\n",
              "      <td>100.000000</td>\n",
              "      <td>100.000000</td>\n",
              "      <td>100.000000</td>\n",
              "      <td>100.000000</td>\n",
              "    </tr>\n",
              "    <tr>\n",
              "      <th>mean</th>\n",
              "      <td>-0.078900</td>\n",
              "      <td>0.669000</td>\n",
              "      <td>0.870000</td>\n",
              "      <td>0.440000</td>\n",
              "      <td>0.510000</td>\n",
              "      <td>0.190000</td>\n",
              "      <td>0.832000</td>\n",
              "      <td>-0.350000</td>\n",
              "      <td>0.406800</td>\n",
              "    </tr>\n",
              "    <tr>\n",
              "      <th>std</th>\n",
              "      <td>0.796725</td>\n",
              "      <td>0.121319</td>\n",
              "      <td>0.337998</td>\n",
              "      <td>0.498888</td>\n",
              "      <td>0.502418</td>\n",
              "      <td>0.580752</td>\n",
              "      <td>0.167501</td>\n",
              "      <td>0.808728</td>\n",
              "      <td>0.186395</td>\n",
              "    </tr>\n",
              "    <tr>\n",
              "      <th>min</th>\n",
              "      <td>-1.000000</td>\n",
              "      <td>0.500000</td>\n",
              "      <td>0.000000</td>\n",
              "      <td>0.000000</td>\n",
              "      <td>0.000000</td>\n",
              "      <td>-1.000000</td>\n",
              "      <td>0.200000</td>\n",
              "      <td>-1.000000</td>\n",
              "      <td>0.060000</td>\n",
              "    </tr>\n",
              "    <tr>\n",
              "      <th>25%</th>\n",
              "      <td>-1.000000</td>\n",
              "      <td>0.560000</td>\n",
              "      <td>1.000000</td>\n",
              "      <td>0.000000</td>\n",
              "      <td>0.000000</td>\n",
              "      <td>0.000000</td>\n",
              "      <td>0.800000</td>\n",
              "      <td>-1.000000</td>\n",
              "      <td>0.250000</td>\n",
              "    </tr>\n",
              "    <tr>\n",
              "      <th>50%</th>\n",
              "      <td>-0.330000</td>\n",
              "      <td>0.670000</td>\n",
              "      <td>1.000000</td>\n",
              "      <td>0.000000</td>\n",
              "      <td>1.000000</td>\n",
              "      <td>0.000000</td>\n",
              "      <td>0.800000</td>\n",
              "      <td>-1.000000</td>\n",
              "      <td>0.380000</td>\n",
              "    </tr>\n",
              "    <tr>\n",
              "      <th>75%</th>\n",
              "      <td>1.000000</td>\n",
              "      <td>0.750000</td>\n",
              "      <td>1.000000</td>\n",
              "      <td>1.000000</td>\n",
              "      <td>1.000000</td>\n",
              "      <td>1.000000</td>\n",
              "      <td>1.000000</td>\n",
              "      <td>0.000000</td>\n",
              "      <td>0.500000</td>\n",
              "    </tr>\n",
              "    <tr>\n",
              "      <th>max</th>\n",
              "      <td>1.000000</td>\n",
              "      <td>1.000000</td>\n",
              "      <td>1.000000</td>\n",
              "      <td>1.000000</td>\n",
              "      <td>1.000000</td>\n",
              "      <td>1.000000</td>\n",
              "      <td>1.000000</td>\n",
              "      <td>1.000000</td>\n",
              "      <td>1.000000</td>\n",
              "    </tr>\n",
              "  </tbody>\n",
              "</table>\n",
              "</div>"
            ],
            "text/plain": [
              "               V1          V2          V3  ...          V7          V8          V9\n",
              "count  100.000000  100.000000  100.000000  ...  100.000000  100.000000  100.000000\n",
              "mean    -0.078900    0.669000    0.870000  ...    0.832000   -0.350000    0.406800\n",
              "std      0.796725    0.121319    0.337998  ...    0.167501    0.808728    0.186395\n",
              "min     -1.000000    0.500000    0.000000  ...    0.200000   -1.000000    0.060000\n",
              "25%     -1.000000    0.560000    1.000000  ...    0.800000   -1.000000    0.250000\n",
              "50%     -0.330000    0.670000    1.000000  ...    0.800000   -1.000000    0.380000\n",
              "75%      1.000000    0.750000    1.000000  ...    1.000000    0.000000    0.500000\n",
              "max      1.000000    1.000000    1.000000  ...    1.000000    1.000000    1.000000\n",
              "\n",
              "[8 rows x 9 columns]"
            ]
          },
          "metadata": {
            "tags": []
          },
          "execution_count": 8
        }
      ]
    },
    {
      "cell_type": "code",
      "metadata": {
        "id": "DpoAxRd637Ym",
        "colab_type": "code",
        "colab": {
          "base_uri": "https://localhost:8080/",
          "height": 295
        },
        "outputId": "35d0b5c2-e35e-442b-ac0b-1aa705b839ca"
      },
      "source": [
        "# Fake dataset\n",
        "height = [88, 12]\n",
        "bars = ('Class 1', 'Class 2')\n",
        "y_pos = np.arange(len(bars))\n",
        " \n",
        "# Create bars and choose color\n",
        "plt.bar(y_pos, height, color=['peru','steelblue'], width=0.5)\n",
        " \n",
        "# Add title and axis names\n",
        "plt.title('Unbalanced Classes')\n",
        "plt.xlabel('Classes')\n",
        "plt.ylabel('Count')\n",
        " \n",
        "# Limits for the Y axis\n",
        "\n",
        " \n",
        "# Create names\n",
        "plt.xticks(y_pos, bars)\n",
        " \n",
        "# Show graphic\n",
        "plt.show()\n",
        "\n"
      ],
      "execution_count": 9,
      "outputs": [
        {
          "output_type": "display_data",
          "data": {
            "image/png": "[encoded data removed]",
            "text/plain": [
              "<Figure size 432x288 with 1 Axes>"
            ]
          },
          "metadata": {
            "tags": []
          }
        }
      ]
    },
    {
      "cell_type": "code",
      "metadata": {
        "id": "TRCIuJNS0pZw",
        "colab_type": "code",
        "colab": {}
      },
      "source": [
        "data_fertility = genfromtxt('/content/drive/My Drive/php9pgo5r.csv', delimiter=',', skip_header = 1)\n",
        "data = data_fertility[:,:-1]\n",
        "target = data_fertility[:,-1]"
      ],
      "execution_count": 0,
      "outputs": []
    },
    {
      "cell_type": "markdown",
      "metadata": {
        "id": "sTHSgmk9ZoOS",
        "colab_type": "text"
      },
      "source": [
        "## Step 1"
      ]
    },
    {
      "cell_type": "code",
      "metadata": {
        "id": "gpzXrSJo0paB",
        "colab_type": "code",
        "colab": {}
      },
      "source": [
        "# Neural network \n",
        "\n",
        "def ann_from_cfg(cfg):\n",
        "\n",
        "  clf = MLPClassifier(**cfg, hidden_layer_sizes = (4,2,), \n",
        "                      solver='adam', \n",
        "                      random_state=int(cfg['momentum']*cfg['learning_rate_init']*4096)) \n",
        "\n",
        "  SKF = StratifiedKFold(n_splits = 10, random_state = 65536)\n",
        "  scores = cross_val_score(clf, data, target, cv = SKF, scoring = 'accuracy')\n",
        "\n",
        "  return -np.mean(scores)"
      ],
      "execution_count": 0,
      "outputs": []
    },
    {
      "cell_type": "code",
      "metadata": {
        "id": "mTMMDQlm0paU",
        "colab_type": "code",
        "outputId": "cab56589-936f-4938-c983-42220b660ba6",
        "colab": {
          "base_uri": "https://localhost:8080/",
          "height": 33
        }
      },
      "source": [
        "# Building Configuration Space which defines all parameters and their ranges\n",
        "cs = ConfigurationSpace()\n",
        "learning_rate_init = UniformFloatHyperparameter(\"learning_rate_init\", 0.01, 0.1)\n",
        "momentum = UniformFloatHyperparameter(\"momentum\", 0.1, 0.9, default_value=0.9)\n",
        "cs.add_hyperparameters([learning_rate_init,momentum])\n",
        "\n",
        "init = cs.sample_configuration(5)\n",
        "\n",
        "# Scenario object\n",
        "scenario = Scenario({\"run_obj\": \"quality\",   # we optimize quality (alternatively runtime)\n",
        "                     \"runcount-limit\": 25,   # max. number of function evaluations;\n",
        "                     \"cs\": cs,               # configuration space\n",
        "                     \"deterministic\": \"true\",\n",
        "                     \"abort_on_first_run_crash\": \"false\"\n",
        "                     })"
      ],
      "execution_count": 12,
      "outputs": [
        {
          "output_type": "stream",
          "text": [
            "INFO:smac.utils.io.cmd_reader.CMDReader:Output to smac3-output_2019-12-06_18:18:48_013167\n"
          ],
          "name": "stderr"
        }
      ]
    },
    {
      "cell_type": "code",
      "metadata": {
        "id": "1QXUk5jYllqa",
        "colab_type": "code",
        "outputId": "39396bd1-3c1f-4470-9c02-39313d0c915e",
        "colab": {
          "base_uri": "https://localhost:8080/",
          "height": 100
        }
      },
      "source": [
        "logging.basicConfig(level=logging.INFO)  # logging.DEBUG for debug output\n",
        "\n",
        "# Default configuration and value\n",
        "def_value = ann_from_cfg(cs.get_default_configuration())\n",
        "\n",
        "print(\"Configuration: \",  cs.get_default_configuration(), \n",
        "      \"\\nDefault Value: %.4f\" % -def_value)"
      ],
      "execution_count": 13,
      "outputs": [
        {
          "output_type": "stream",
          "text": [
            "Configuration:  Configuration:\n",
            "  learning_rate_init, Value: 0.055\n",
            "  momentum, Value: 0.9\n",
            " \n",
            "Default Value: 0.7730\n"
          ],
          "name": "stdout"
        }
      ]
    },
    {
      "cell_type": "code",
      "metadata": {
        "id": "Dm0WHvYpmRZH",
        "colab_type": "code",
        "colab": {}
      },
      "source": [
        "# Gaussian Process (GP) as surrogate model with different aqcuisition function\n",
        "\n",
        "def GaussianProcess_SMBO(acq_func):\n",
        "  \n",
        "  smac = SMAC4BO(scenario=scenario, rng=np.random.RandomState(65536),\n",
        "                tae_runner=ann_from_cfg, # neural network\n",
        "                initial_design=None,\n",
        "                initial_design_kwargs= {'n_configs_x_params': 5, \n",
        "                                        'max_config_fracs': 5/25},  # 5 iterations for the initial configurations + 20 iterations -> 25 \n",
        "                initial_configurations = init,  # the firts 5 configurations\n",
        "                acquisition_function = acq_func) # SMBO: LCB or EI (in this case)\n",
        "  \n",
        "  incumbent = smac.optimize()\n",
        "  inc_value = ann_from_cfg(incumbent)\n",
        "\n",
        "  lr = smac.optimize()['learning_rate_init']\n",
        "  m = smac.optimize()['momentum']\n",
        "\n",
        "  results = {'lr': lr, \n",
        "              'momentum' : m,\n",
        "              'score' : -inc_value\n",
        "              }\n",
        "  \n",
        "  print(\"Optimized Value: %.4f\" % (-inc_value))\n",
        "\n",
        "  return smac, results"
      ],
      "execution_count": 0,
      "outputs": []
    },
    {
      "cell_type": "code",
      "metadata": {
        "id": "V1vmtGSw0par",
        "colab_type": "code",
        "outputId": "99b35acd-5170-41e5-a4f1-253f16ec016f",
        "colab": {
          "base_uri": "https://localhost:8080/",
          "height": 1000
        }
      },
      "source": [
        "smac_LCB, results_LCB = GaussianProcess_SMBO(LCB) "
      ],
      "execution_count": 15,
      "outputs": [
        {
          "output_type": "stream",
          "text": [
            "INFO:smac.facade.smac_bo_facade.SMAC4BO:Optimizing a deterministic scenario for quality without a tuner timeout - will make SMAC deterministic and only evaluate one configuration per iteration!\n",
            "INFO:smac.initial_design.initial_design.InitialDesign:Running initial design for 5 configurations\n",
            "INFO:smac.facade.smac_bo_facade.SMAC4BO:<class 'smac.facade.smac_bo_facade.SMAC4BO'>\n",
            "INFO:smac.intensification.intensification.Intensifier:Challenger (-0.8814) is better than incumbent (-0.8714) on 1 runs.\n",
            "INFO:smac.intensification.intensification.Intensifier:Changes in incumbent:\n",
            "INFO:smac.intensification.intensification.Intensifier:  learning_rate_init : 0.06227789620451803 -> 0.03321709450764505\n",
            "INFO:smac.intensification.intensification.Intensifier:  momentum : 0.21558730652235605 -> 0.62585724167987\n",
            "INFO:smac.intensification.intensification.Intensifier:Updated estimated cost of incumbent on 1 runs: -0.8814\n",
            "INFO:smac.intensification.intensification.Intensifier:Updated estimated cost of incumbent on 1 runs: -0.8814\n",
            "INFO:smac.intensification.intensification.Intensifier:Updated estimated cost of incumbent on 1 runs: -0.8814\n",
            "INFO:smac.intensification.intensification.Intensifier:Updated estimated cost of incumbent on 1 runs: -0.8814\n",
            "INFO:smac.intensification.intensification.Intensifier:Updated estimated cost of incumbent on 1 runs: -0.8814\n",
            "INFO:smac.intensification.intensification.Intensifier:Updated estimated cost of incumbent on 1 runs: -0.8814\n",
            "INFO:smac.intensification.intensification.Intensifier:Updated estimated cost of incumbent on 1 runs: -0.8814\n",
            "INFO:smac.intensification.intensification.Intensifier:Updated estimated cost of incumbent on 1 runs: -0.8814\n",
            "INFO:smac.intensification.intensification.Intensifier:Updated estimated cost of incumbent on 1 runs: -0.8814\n",
            "INFO:smac.intensification.intensification.Intensifier:Updated estimated cost of incumbent on 1 runs: -0.8814\n",
            "INFO:smac.intensification.intensification.Intensifier:Updated estimated cost of incumbent on 1 runs: -0.8814\n",
            "INFO:smac.intensification.intensification.Intensifier:Updated estimated cost of incumbent on 1 runs: -0.8814\n",
            "INFO:smac.intensification.intensification.Intensifier:Updated estimated cost of incumbent on 1 runs: -0.8814\n",
            "INFO:smac.intensification.intensification.Intensifier:Updated estimated cost of incumbent on 1 runs: -0.8814\n",
            "INFO:smac.intensification.intensification.Intensifier:Challenger (-0.8914) is better than incumbent (-0.8814) on 1 runs.\n",
            "INFO:smac.intensification.intensification.Intensifier:Changes in incumbent:\n",
            "INFO:smac.intensification.intensification.Intensifier:  learning_rate_init : 0.03321709450764505 -> 0.047432466376304216\n",
            "INFO:smac.intensification.intensification.Intensifier:  momentum : 0.62585724167987 -> 0.3696705814413175\n",
            "INFO:smac.intensification.intensification.Intensifier:Updated estimated cost of incumbent on 1 runs: -0.8914\n",
            "INFO:smac.intensification.intensification.Intensifier:Updated estimated cost of incumbent on 1 runs: -0.8914\n",
            "INFO:smac.intensification.intensification.Intensifier:Updated estimated cost of incumbent on 1 runs: -0.8914\n",
            "INFO:smac.intensification.intensification.Intensifier:Updated estimated cost of incumbent on 1 runs: -0.8914\n",
            "INFO:smac.intensification.intensification.Intensifier:Updated estimated cost of incumbent on 1 runs: -0.8914\n",
            "INFO:smac.intensification.intensification.Intensifier:Updated estimated cost of incumbent on 1 runs: -0.8914\n",
            "INFO:smac.intensification.intensification.Intensifier:Updated estimated cost of incumbent on 1 runs: -0.8914\n",
            "INFO:smac.stats.stats.Stats:##########################################################\n",
            "INFO:smac.stats.stats.Stats:Statistics:\n",
            "INFO:smac.stats.stats.Stats:#Incumbent changed: 2\n",
            "INFO:smac.stats.stats.Stats:#Target algorithm runs: 25 / 25.0\n",
            "INFO:smac.stats.stats.Stats:#Configurations: 25\n",
            "INFO:smac.stats.stats.Stats:Used wallclock time: 80.81 / inf sec \n",
            "INFO:smac.stats.stats.Stats:Used target algorithm runtime: 15.54 / inf sec\n",
            "INFO:smac.stats.stats.Stats:##########################################################\n",
            "INFO:smac.facade.smac_bo_facade.SMAC4BO:Final Incumbent: Configuration:\n",
            "  learning_rate_init, Value: 0.047432466376304216\n",
            "  momentum, Value: 0.3696705814413175\n",
            "\n",
            "INFO:smac.facade.smac_bo_facade.SMAC4BO:Estimated cost of incumbent: -0.891414\n",
            "INFO:smac.optimizer.smbo.SMBO:State Restored! Starting optimization with incumbent Configuration:\n",
            "  learning_rate_init, Value: 0.047432466376304216\n",
            "  momentum, Value: 0.3696705814413175\n",
            "\n",
            "INFO:smac.optimizer.smbo.SMBO:State restored with following budget:\n",
            "INFO:smac.stats.stats.Stats:##########################################################\n",
            "INFO:smac.stats.stats.Stats:Statistics:\n",
            "INFO:smac.stats.stats.Stats:#Incumbent changed: 2\n",
            "INFO:smac.stats.stats.Stats:#Target algorithm runs: 25 / 25.0\n",
            "INFO:smac.stats.stats.Stats:#Configurations: 25\n",
            "INFO:smac.stats.stats.Stats:Used wallclock time: 80.81 / inf sec \n",
            "INFO:smac.stats.stats.Stats:Used target algorithm runtime: 15.54 / inf sec\n",
            "INFO:smac.stats.stats.Stats:##########################################################\n",
            "INFO:smac.stats.stats.Stats:##########################################################\n",
            "INFO:smac.stats.stats.Stats:Statistics:\n",
            "INFO:smac.stats.stats.Stats:#Incumbent changed: 2\n",
            "INFO:smac.stats.stats.Stats:#Target algorithm runs: 25 / 25.0\n",
            "INFO:smac.stats.stats.Stats:#Configurations: 25\n",
            "INFO:smac.stats.stats.Stats:Used wallclock time: 84.72 / inf sec \n",
            "INFO:smac.stats.stats.Stats:Used target algorithm runtime: 15.54 / inf sec\n",
            "INFO:smac.stats.stats.Stats:##########################################################\n",
            "INFO:smac.facade.smac_bo_facade.SMAC4BO:Final Incumbent: Configuration:\n",
            "  learning_rate_init, Value: 0.047432466376304216\n",
            "  momentum, Value: 0.3696705814413175\n",
            "\n",
            "INFO:smac.facade.smac_bo_facade.SMAC4BO:Estimated cost of incumbent: -0.891414\n",
            "INFO:smac.optimizer.smbo.SMBO:State Restored! Starting optimization with incumbent Configuration:\n",
            "  learning_rate_init, Value: 0.047432466376304216\n",
            "  momentum, Value: 0.3696705814413175\n",
            "\n",
            "INFO:smac.optimizer.smbo.SMBO:State restored with following budget:\n",
            "INFO:smac.stats.stats.Stats:##########################################################\n",
            "INFO:smac.stats.stats.Stats:Statistics:\n",
            "INFO:smac.stats.stats.Stats:#Incumbent changed: 2\n",
            "INFO:smac.stats.stats.Stats:#Target algorithm runs: 25 / 25.0\n",
            "INFO:smac.stats.stats.Stats:#Configurations: 25\n",
            "INFO:smac.stats.stats.Stats:Used wallclock time: 84.71 / inf sec \n",
            "INFO:smac.stats.stats.Stats:Used target algorithm runtime: 15.54 / inf sec\n",
            "INFO:smac.stats.stats.Stats:##########################################################\n",
            "INFO:smac.stats.stats.Stats:##########################################################\n",
            "INFO:smac.stats.stats.Stats:Statistics:\n",
            "INFO:smac.stats.stats.Stats:#Incumbent changed: 2\n",
            "INFO:smac.stats.stats.Stats:#Target algorithm runs: 25 / 25.0\n",
            "INFO:smac.stats.stats.Stats:#Configurations: 25\n",
            "INFO:smac.stats.stats.Stats:Used wallclock time: 88.40 / inf sec \n",
            "INFO:smac.stats.stats.Stats:Used target algorithm runtime: 15.54 / inf sec\n",
            "INFO:smac.stats.stats.Stats:##########################################################\n",
            "INFO:smac.facade.smac_bo_facade.SMAC4BO:Final Incumbent: Configuration:\n",
            "  learning_rate_init, Value: 0.047432466376304216\n",
            "  momentum, Value: 0.3696705814413175\n",
            "\n",
            "INFO:smac.facade.smac_bo_facade.SMAC4BO:Estimated cost of incumbent: -0.891414\n"
          ],
          "name": "stderr"
        },
        {
          "output_type": "stream",
          "text": [
            "Optimized Value: 0.8914\n"
          ],
          "name": "stdout"
        }
      ]
    },
    {
      "cell_type": "code",
      "metadata": {
        "id": "mIXUgaQkk4_V",
        "colab_type": "code",
        "outputId": "2eb764cd-33b0-4a80-c10f-c2386f8adfbb",
        "colab": {
          "base_uri": "https://localhost:8080/",
          "height": 1000
        }
      },
      "source": [
        "smac_EI, results_EI = GaussianProcess_SMBO(EI) "
      ],
      "execution_count": 16,
      "outputs": [
        {
          "output_type": "stream",
          "text": [
            "INFO:smac.facade.smac_bo_facade.SMAC4BO:Optimizing a deterministic scenario for quality without a tuner timeout - will make SMAC deterministic and only evaluate one configuration per iteration!\n",
            "INFO:smac.initial_design.initial_design.InitialDesign:Running initial design for 5 configurations\n",
            "INFO:smac.facade.smac_bo_facade.SMAC4BO:<class 'smac.facade.smac_bo_facade.SMAC4BO'>\n",
            "INFO:smac.intensification.intensification.Intensifier:Challenger (-0.8814) is better than incumbent (-0.8714) on 1 runs.\n",
            "INFO:smac.intensification.intensification.Intensifier:Changes in incumbent:\n",
            "INFO:smac.intensification.intensification.Intensifier:  learning_rate_init : 0.06227789620451803 -> 0.03321709450764505\n",
            "INFO:smac.intensification.intensification.Intensifier:  momentum : 0.21558730652235605 -> 0.62585724167987\n",
            "INFO:smac.intensification.intensification.Intensifier:Updated estimated cost of incumbent on 1 runs: -0.8814\n",
            "INFO:smac.intensification.intensification.Intensifier:Updated estimated cost of incumbent on 1 runs: -0.8814\n",
            "INFO:smac.intensification.intensification.Intensifier:Updated estimated cost of incumbent on 1 runs: -0.8814\n",
            "INFO:smac.intensification.intensification.Intensifier:Updated estimated cost of incumbent on 1 runs: -0.8814\n",
            "INFO:smac.intensification.intensification.Intensifier:Updated estimated cost of incumbent on 1 runs: -0.8814\n",
            "INFO:smac.intensification.intensification.Intensifier:Updated estimated cost of incumbent on 1 runs: -0.8814\n",
            "INFO:smac.intensification.intensification.Intensifier:Updated estimated cost of incumbent on 1 runs: -0.8814\n",
            "INFO:smac.intensification.intensification.Intensifier:Updated estimated cost of incumbent on 1 runs: -0.8814\n",
            "INFO:smac.intensification.intensification.Intensifier:Updated estimated cost of incumbent on 1 runs: -0.8814\n",
            "INFO:smac.intensification.intensification.Intensifier:Updated estimated cost of incumbent on 1 runs: -0.8814\n",
            "INFO:smac.intensification.intensification.Intensifier:Updated estimated cost of incumbent on 1 runs: -0.8814\n",
            "INFO:smac.intensification.intensification.Intensifier:Challenger (-0.8923) is better than incumbent (-0.8814) on 1 runs.\n",
            "INFO:smac.intensification.intensification.Intensifier:Changes in incumbent:\n",
            "INFO:smac.intensification.intensification.Intensifier:  learning_rate_init : 0.03321709450764505 -> 0.039758378890293995\n",
            "INFO:smac.intensification.intensification.Intensifier:  momentum : 0.62585724167987 -> 0.6245613105313298\n",
            "INFO:smac.intensification.intensification.Intensifier:Updated estimated cost of incumbent on 1 runs: -0.8923\n",
            "INFO:smac.intensification.intensification.Intensifier:Updated estimated cost of incumbent on 1 runs: -0.8923\n",
            "INFO:smac.intensification.intensification.Intensifier:Updated estimated cost of incumbent on 1 runs: -0.8923\n",
            "INFO:smac.intensification.intensification.Intensifier:Updated estimated cost of incumbent on 1 runs: -0.8923\n",
            "INFO:smac.intensification.intensification.Intensifier:Updated estimated cost of incumbent on 1 runs: -0.8923\n",
            "INFO:smac.intensification.intensification.Intensifier:Updated estimated cost of incumbent on 1 runs: -0.8923\n",
            "INFO:smac.intensification.intensification.Intensifier:Updated estimated cost of incumbent on 1 runs: -0.8923\n",
            "INFO:smac.intensification.intensification.Intensifier:Updated estimated cost of incumbent on 1 runs: -0.8923\n",
            "INFO:smac.intensification.intensification.Intensifier:Updated estimated cost of incumbent on 1 runs: -0.8923\n",
            "INFO:smac.intensification.intensification.Intensifier:Updated estimated cost of incumbent on 1 runs: -0.8923\n",
            "INFO:smac.stats.stats.Stats:##########################################################\n",
            "INFO:smac.stats.stats.Stats:Statistics:\n",
            "INFO:smac.stats.stats.Stats:#Incumbent changed: 2\n",
            "INFO:smac.stats.stats.Stats:#Target algorithm runs: 25 / 25.0\n",
            "INFO:smac.stats.stats.Stats:#Configurations: 25\n",
            "INFO:smac.stats.stats.Stats:Used wallclock time: 86.73 / inf sec \n",
            "INFO:smac.stats.stats.Stats:Used target algorithm runtime: 13.95 / inf sec\n",
            "INFO:smac.stats.stats.Stats:##########################################################\n",
            "INFO:smac.facade.smac_bo_facade.SMAC4BO:Final Incumbent: Configuration:\n",
            "  learning_rate_init, Value: 0.039758378890293995\n",
            "  momentum, Value: 0.6245613105313298\n",
            "\n",
            "INFO:smac.facade.smac_bo_facade.SMAC4BO:Estimated cost of incumbent: -0.892323\n",
            "INFO:smac.optimizer.smbo.SMBO:State Restored! Starting optimization with incumbent Configuration:\n",
            "  learning_rate_init, Value: 0.039758378890293995\n",
            "  momentum, Value: 0.6245613105313298\n",
            "\n",
            "INFO:smac.optimizer.smbo.SMBO:State restored with following budget:\n",
            "INFO:smac.stats.stats.Stats:##########################################################\n",
            "INFO:smac.stats.stats.Stats:Statistics:\n",
            "INFO:smac.stats.stats.Stats:#Incumbent changed: 2\n",
            "INFO:smac.stats.stats.Stats:#Target algorithm runs: 25 / 25.0\n",
            "INFO:smac.stats.stats.Stats:#Configurations: 25\n",
            "INFO:smac.stats.stats.Stats:Used wallclock time: 86.72 / inf sec \n",
            "INFO:smac.stats.stats.Stats:Used target algorithm runtime: 13.95 / inf sec\n",
            "INFO:smac.stats.stats.Stats:##########################################################\n",
            "INFO:smac.stats.stats.Stats:##########################################################\n",
            "INFO:smac.stats.stats.Stats:Statistics:\n",
            "INFO:smac.stats.stats.Stats:#Incumbent changed: 2\n",
            "INFO:smac.stats.stats.Stats:#Target algorithm runs: 25 / 25.0\n",
            "INFO:smac.stats.stats.Stats:#Configurations: 25\n",
            "INFO:smac.stats.stats.Stats:Used wallclock time: 90.90 / inf sec \n",
            "INFO:smac.stats.stats.Stats:Used target algorithm runtime: 13.95 / inf sec\n",
            "INFO:smac.stats.stats.Stats:##########################################################\n",
            "INFO:smac.facade.smac_bo_facade.SMAC4BO:Final Incumbent: Configuration:\n",
            "  learning_rate_init, Value: 0.039758378890293995\n",
            "  momentum, Value: 0.6245613105313298\n",
            "\n",
            "INFO:smac.facade.smac_bo_facade.SMAC4BO:Estimated cost of incumbent: -0.892323\n",
            "INFO:smac.optimizer.smbo.SMBO:State Restored! Starting optimization with incumbent Configuration:\n",
            "  learning_rate_init, Value: 0.039758378890293995\n",
            "  momentum, Value: 0.6245613105313298\n",
            "\n",
            "INFO:smac.optimizer.smbo.SMBO:State restored with following budget:\n",
            "INFO:smac.stats.stats.Stats:##########################################################\n",
            "INFO:smac.stats.stats.Stats:Statistics:\n",
            "INFO:smac.stats.stats.Stats:#Incumbent changed: 2\n",
            "INFO:smac.stats.stats.Stats:#Target algorithm runs: 25 / 25.0\n",
            "INFO:smac.stats.stats.Stats:#Configurations: 25\n",
            "INFO:smac.stats.stats.Stats:Used wallclock time: 90.90 / inf sec \n",
            "INFO:smac.stats.stats.Stats:Used target algorithm runtime: 13.95 / inf sec\n",
            "INFO:smac.stats.stats.Stats:##########################################################\n",
            "INFO:smac.stats.stats.Stats:##########################################################\n",
            "INFO:smac.stats.stats.Stats:Statistics:\n",
            "INFO:smac.stats.stats.Stats:#Incumbent changed: 2\n",
            "INFO:smac.stats.stats.Stats:#Target algorithm runs: 25 / 25.0\n",
            "INFO:smac.stats.stats.Stats:#Configurations: 25\n",
            "INFO:smac.stats.stats.Stats:Used wallclock time: 95.28 / inf sec \n",
            "INFO:smac.stats.stats.Stats:Used target algorithm runtime: 13.95 / inf sec\n",
            "INFO:smac.stats.stats.Stats:##########################################################\n",
            "INFO:smac.facade.smac_bo_facade.SMAC4BO:Final Incumbent: Configuration:\n",
            "  learning_rate_init, Value: 0.039758378890293995\n",
            "  momentum, Value: 0.6245613105313298\n",
            "\n",
            "INFO:smac.facade.smac_bo_facade.SMAC4BO:Estimated cost of incumbent: -0.892323\n"
          ],
          "name": "stderr"
        },
        {
          "output_type": "stream",
          "text": [
            "Optimized Value: 0.8923\n"
          ],
          "name": "stdout"
        }
      ]
    },
    {
      "cell_type": "code",
      "metadata": {
        "id": "3WLf7fzgo7gn",
        "colab_type": "code",
        "colab": {}
      },
      "source": [
        "# performance history of LCB and EI\n",
        "\n",
        "def performance_history(smac):\n",
        "\n",
        "  maximum = 0.00000001\n",
        "  history_of_maximums = []\n",
        "\n",
        "  history = -smac.get_X_y()[1]\n",
        "\n",
        "  for i in range(len(history)):\n",
        "      if history[i] > maximum:\n",
        "          maximum = history[i]\n",
        "          history_of_maximums.append(maximum)\n",
        "      else:\n",
        "          history_of_maximums.append(maximum) \n",
        "  \n",
        "  return history_of_maximums"
      ],
      "execution_count": 0,
      "outputs": []
    },
    {
      "cell_type": "code",
      "metadata": {
        "id": "SSLGn-Pgpkmr",
        "colab_type": "code",
        "colab": {}
      },
      "source": [
        "history_LCB = performance_history(smac_LCB)\n",
        "history_EI = performance_history(smac_EI)"
      ],
      "execution_count": 0,
      "outputs": []
    },
    {
      "cell_type": "code",
      "metadata": {
        "id": "9eYN8x7CpZgB",
        "colab_type": "code",
        "outputId": "6f4e56e0-95b9-411c-d3d5-4cfee899b16e",
        "colab": {
          "base_uri": "https://localhost:8080/",
          "height": 350
        }
      },
      "source": [
        "# Plot of the results\n",
        "\n",
        "plt.figure(figsize = (15,5))\n",
        "plt.plot(history_LCB, marker = \"x\", color='steelblue', linestyle='--')\n",
        "plt.plot(history_EI, marker = \".\", color='coral', linestyle='-')\n",
        "plt.axvline(x=4, ls=':', c='grey')\n",
        "plt.xticks(np.arange(0, 26, 1))\n",
        "\n",
        "plt.legend([\"LCB\", \"EI\"])\n",
        "plt.xlabel(\"Iterations\")\n",
        "plt.ylabel(\"Accuracy\")"
      ],
      "execution_count": 19,
      "outputs": [
        {
          "output_type": "execute_result",
          "data": {
            "text/plain": [
              "Text(0, 0.5, 'Accuracy')"
            ]
          },
          "metadata": {
            "tags": []
          },
          "execution_count": 19
        },
        {
          "output_type": "display_data",
          "data": {
            "image/png": "[encoded data removed]",
            "text/plain": [
              "<Figure size 1080x360 with 1 Axes>"
            ]
          },
          "metadata": {
            "tags": []
          }
        }
      ]
    },
    {
      "cell_type": "markdown",
      "metadata": {
        "id": "nfmBNNhu0pa-",
        "colab_type": "text"
      },
      "source": [
        "## Grid search"
      ]
    },
    {
      "cell_type": "code",
      "metadata": {
        "id": "3hiuMkMl0pbE",
        "colab_type": "code",
        "outputId": "ea684f1b-e484-4ca2-8373-4def36a6ce15",
        "colab": {
          "base_uri": "https://localhost:8080/",
          "height": 84
        }
      },
      "source": [
        "from sklearn.model_selection import GridSearchCV\n",
        "\n",
        "mlp = MLPClassifier(hidden_layer_sizes = (4,2,), solver='adam')\n",
        "parameter_space = {\n",
        "    'momentum': [0.1,0.3,0.5,0.7,0.9],\n",
        "    'learning_rate_init': [0.01,0.05, 0.075, 0.09, 0.1]\n",
        "}\n",
        "\n",
        "SKF = StratifiedKFold(n_splits = 10, random_state = 65536)\n",
        " \n",
        "clf_grid = GridSearchCV(mlp, parameter_space, n_jobs=-1, cv=SKF, scoring='accuracy')\n",
        "clf_grid.fit(data, target)\n",
        "\n",
        "# Best parameter set\n",
        "print('Best parameters found:\\n', clf_grid.best_params_)\n",
        "print('Best result:\\n', clf_grid.best_score_)"
      ],
      "execution_count": 20,
      "outputs": [
        {
          "output_type": "stream",
          "text": [
            "Best parameters found:\n",
            " {'learning_rate_init': 0.01, 'momentum': 0.9}\n",
            "Best result:\n",
            " 0.88\n"
          ],
          "name": "stdout"
        }
      ]
    },
    {
      "cell_type": "code",
      "metadata": {
        "id": "UfQFh1CTxY9D",
        "colab_type": "code",
        "colab": {}
      },
      "source": [
        "results_GS = {'lr': clf_grid.best_params_['learning_rate_init'], \n",
        "              'momentum' : clf_grid.best_params_['momentum'],\n",
        "              'score' : clf_grid.best_score_\n",
        "              }"
      ],
      "execution_count": 0,
      "outputs": []
    },
    {
      "cell_type": "markdown",
      "metadata": {
        "id": "qfZepfyo0pbS",
        "colab_type": "text"
      },
      "source": [
        "## Pure random search"
      ]
    },
    {
      "cell_type": "code",
      "metadata": {
        "id": "1Aa7DxHF0pbX",
        "colab_type": "code",
        "outputId": "8c7b201d-78fe-440c-9265-7654059c9817",
        "colab": {
          "base_uri": "https://localhost:8080/",
          "height": 84
        }
      },
      "source": [
        "from sklearn.model_selection import RandomizedSearchCV\n",
        "from numpy.random import randint\n",
        "\n",
        "\n",
        "parameter_space = {\n",
        "    'momentum': uniform(0.1,0.9),\n",
        "    'learning_rate_init': uniform(0.01,0.1)\n",
        "}\n",
        "\n",
        "n_iter_search = 25\n",
        "random_search = RandomizedSearchCV(mlp, param_distributions=parameter_space,\n",
        "                                   n_iter=n_iter_search, scoring= 'accuracy')\n",
        "\n",
        "random_search.fit(data, target)\n",
        "\n",
        "# Best paramete set\n",
        "print('Best parameters found:\\n', random_search.best_params_)\n",
        "print('Best result:\\n', random_search.best_score_)"
      ],
      "execution_count": 22,
      "outputs": [
        {
          "output_type": "stream",
          "text": [
            "Best parameters found:\n",
            " {'learning_rate_init': 0.03551714905768672, 'momentum': 0.9607453142292084}\n",
            "Best result:\n",
            " 0.88\n"
          ],
          "name": "stdout"
        }
      ]
    },
    {
      "cell_type": "code",
      "metadata": {
        "id": "nY8HK5TXKWqP",
        "colab_type": "code",
        "colab": {}
      },
      "source": [
        "results_PRS = {'lr': random_search.best_params_['learning_rate_init'], \n",
        "              'momentum' : random_search.best_params_['momentum'],\n",
        "              'score' : random_search.best_score_\n",
        "              }"
      ],
      "execution_count": 0,
      "outputs": []
    },
    {
      "cell_type": "code",
      "metadata": {
        "id": "YC47vh7Z4S0A",
        "colab_type": "code",
        "colab": {}
      },
      "source": [
        "lr = []\n",
        "m = []\n",
        "score = []\n",
        "\n",
        "for v in results_LCB, results_EI, results_GS, results_PRS:\n",
        "  lr.append(v['lr'])\n",
        "  m.append(v['momentum'])\n",
        "  score.append(v['score'])\n",
        "\n",
        "results_ = {'learning rate': lr, 'momentum' : m, 'score': score}\n",
        "results_ = pd.DataFrame.transpose(pd.DataFrame.from_dict(results_, \n",
        "                                                         orient='index', \n",
        "                                                         columns=['GaussianProcess_LCB','GaussianProcess_EI','GridSearch','PureRandomSearch']))"
      ],
      "execution_count": 0,
      "outputs": []
    },
    {
      "cell_type": "code",
      "metadata": {
        "id": "CPoi0agA4Sk_",
        "colab_type": "code",
        "colab": {
          "base_uri": "https://localhost:8080/",
          "height": 166
        },
        "outputId": "86c69b0d-d968-4fe4-92ef-98d4c19bc224"
      },
      "source": [
        "results_"
      ],
      "execution_count": 25,
      "outputs": [
        {
          "output_type": "execute_result",
          "data": {
            "text/html": [
              "<div>\n",
              "<style scoped>\n",
              "    .dataframe tbody tr th:only-of-type {\n",
              "        vertical-align: middle;\n",
              "    }\n",
              "\n",
              "    .dataframe tbody tr th {\n",
              "        vertical-align: top;\n",
              "    }\n",
              "\n",
              "    .dataframe thead th {\n",
              "        text-align: right;\n",
              "    }\n",
              "</style>\n",
              "<table border=\"1\" class=\"dataframe\">\n",
              "  <thead>\n",
              "    <tr style=\"text-align: right;\">\n",
              "      <th></th>\n",
              "      <th>learning rate</th>\n",
              "      <th>momentum</th>\n",
              "      <th>score</th>\n",
              "    </tr>\n",
              "  </thead>\n",
              "  <tbody>\n",
              "    <tr>\n",
              "      <th>GaussianProcess_LCB</th>\n",
              "      <td>0.047432</td>\n",
              "      <td>0.369671</td>\n",
              "      <td>0.891414</td>\n",
              "    </tr>\n",
              "    <tr>\n",
              "      <th>GaussianProcess_EI</th>\n",
              "      <td>0.039758</td>\n",
              "      <td>0.624561</td>\n",
              "      <td>0.892323</td>\n",
              "    </tr>\n",
              "    <tr>\n",
              "      <th>GridSearch</th>\n",
              "      <td>0.010000</td>\n",
              "      <td>0.900000</td>\n",
              "      <td>0.880000</td>\n",
              "    </tr>\n",
              "    <tr>\n",
              "      <th>PureRandomSearch</th>\n",
              "      <td>0.035517</td>\n",
              "      <td>0.960745</td>\n",
              "      <td>0.880000</td>\n",
              "    </tr>\n",
              "  </tbody>\n",
              "</table>\n",
              "</div>"
            ],
            "text/plain": [
              "                     learning rate  momentum     score\n",
              "GaussianProcess_LCB       0.047432  0.369671  0.891414\n",
              "GaussianProcess_EI        0.039758  0.624561  0.892323\n",
              "GridSearch                0.010000  0.900000  0.880000\n",
              "PureRandomSearch          0.035517  0.960745  0.880000"
            ]
          },
          "metadata": {
            "tags": []
          },
          "execution_count": 25
        }
      ]
    },
    {
      "cell_type": "markdown",
      "metadata": {
        "id": "GxLJae5d0pbq",
        "colab_type": "text"
      },
      "source": [
        "## Step 2"
      ]
    },
    {
      "cell_type": "code",
      "metadata": {
        "id": "PkbQjj3U0pbu",
        "colab_type": "code",
        "colab": {}
      },
      "source": [
        "def ann_from_cfg_2(cfg):\n",
        "\n",
        "  clf_2 = MLPClassifier(learning_rate_init = cfg[\"learning_rate_init_2\"],\n",
        "                      momentum = cfg[\"momentum_2\"], \n",
        "                      hidden_layer_sizes = (cfg[\"hidden_layer_1\"],cfg[\"hidden_layer_2\"],), \n",
        "                      solver='adam',\n",
        "                      random_state=int(cfg['momentum_2']*cfg['learning_rate_init_2']*4096))\n",
        "\n",
        "\n",
        "  SKF = StratifiedKFold(n_splits = 10, random_state = 65536)\n",
        "  scores = cross_val_score(clf_2, data, target, cv = SKF, scoring = 'accuracy')\n",
        "\n",
        "\n",
        "  return -np.mean(scores)"
      ],
      "execution_count": 0,
      "outputs": []
    },
    {
      "cell_type": "code",
      "metadata": {
        "id": "hlg99qzR0pb6",
        "colab_type": "code",
        "outputId": "279a8a46-3fbe-426a-e168-cc2d499ae9e4",
        "colab": {
          "base_uri": "https://localhost:8080/",
          "height": 702
        }
      },
      "source": [
        "# Building Configuration Space which defines all parameters and their ranges\n",
        "cs_2 = ConfigurationSpace()\n",
        "\n",
        "learning_rate_init_2 = UniformFloatHyperparameter(\"learning_rate_init_2\", 0.01, 0.1, default_value = 0.01)\n",
        "momentum_2 = UniformFloatHyperparameter(\"momentum_2\", 0.1, 0.9, default_value = 0.9)\n",
        "\n",
        "hidden_layer_1 = UniformIntegerHyperparameter(\"hidden_layer_1\",1,5)\n",
        "hidden_layer_2 = UniformIntegerHyperparameter(\"hidden_layer_2\",1,5)\n",
        "\n",
        "cs_2.add_hyperparameters([learning_rate_init_2,momentum_2, hidden_layer_1, hidden_layer_2])\n",
        "\n",
        "\n",
        "init_2 = cs_2.sample_configuration(10)\n",
        "init_2"
      ],
      "execution_count": 39,
      "outputs": [
        {
          "output_type": "execute_result",
          "data": {
            "text/plain": [
              "[Configuration:\n",
              "   hidden_layer_1, Value: 2\n",
              "   hidden_layer_2, Value: 2\n",
              "   learning_rate_init_2, Value: 0.05396843665547687\n",
              "   momentum_2, Value: 0.7351154498265777, Configuration:\n",
              "   hidden_layer_1, Value: 1\n",
              "   hidden_layer_2, Value: 3\n",
              "   learning_rate_init_2, Value: 0.053760281004178644\n",
              "   momentum_2, Value: 0.735597829427149, Configuration:\n",
              "   hidden_layer_1, Value: 5\n",
              "   hidden_layer_2, Value: 5\n",
              "   learning_rate_init_2, Value: 0.05601397054752129\n",
              "   momentum_2, Value: 0.4422735882091058, Configuration:\n",
              "   hidden_layer_1, Value: 4\n",
              "   hidden_layer_2, Value: 2\n",
              "   learning_rate_init_2, Value: 0.04176020002237753\n",
              "   momentum_2, Value: 0.29033029594977877, Configuration:\n",
              "   hidden_layer_1, Value: 2\n",
              "   hidden_layer_2, Value: 1\n",
              "   learning_rate_init_2, Value: 0.07679063197536524\n",
              "   momentum_2, Value: 0.42096373257335484, Configuration:\n",
              "   hidden_layer_1, Value: 2\n",
              "   hidden_layer_2, Value: 2\n",
              "   learning_rate_init_2, Value: 0.018688162494101417\n",
              "   momentum_2, Value: 0.619959167038195, Configuration:\n",
              "   hidden_layer_1, Value: 4\n",
              "   hidden_layer_2, Value: 4\n",
              "   learning_rate_init_2, Value: 0.07028778051585963\n",
              "   momentum_2, Value: 0.48138594803636436, Configuration:\n",
              "   hidden_layer_1, Value: 3\n",
              "   hidden_layer_2, Value: 4\n",
              "   learning_rate_init_2, Value: 0.015680384912134707\n",
              "   momentum_2, Value: 0.8783252600660624, Configuration:\n",
              "   hidden_layer_1, Value: 1\n",
              "   hidden_layer_2, Value: 4\n",
              "   learning_rate_init_2, Value: 0.0655536996565683\n",
              "   momentum_2, Value: 0.7334973340378985, Configuration:\n",
              "   hidden_layer_1, Value: 1\n",
              "   hidden_layer_2, Value: 5\n",
              "   learning_rate_init_2, Value: 0.02077002442592308\n",
              "   momentum_2, Value: 0.12437437081721524]"
            ]
          },
          "metadata": {
            "tags": []
          },
          "execution_count": 39
        }
      ]
    },
    {
      "cell_type": "code",
      "metadata": {
        "id": "dhzx3E-z0pcK",
        "colab_type": "code",
        "outputId": "1bbc0f5f-7571-4111-cf8a-c9bfbdde23c9",
        "colab": {
          "base_uri": "https://localhost:8080/",
          "height": 33
        }
      },
      "source": [
        "# Scenario object\n",
        "scenario_2 = Scenario({\"run_obj\": \"quality\",   # we optimize quality (alternatively runtime)\n",
        "                     \"runcount-limit\": 110,   # max. number of function evaluations; for this example set to a low number\n",
        "                     \"cs\": cs_2,               # configuration space\n",
        "                     \"deterministic\": \"true\",\n",
        "                     \"abort_on_first_run_crash\": \"false\"\n",
        "                     })"
      ],
      "execution_count": 40,
      "outputs": [
        {
          "output_type": "stream",
          "text": [
            "INFO:smac.utils.io.cmd_reader.CMDReader:Output to smac3-output_2019-12-06_18:29:15_815838\n"
          ],
          "name": "stderr"
        }
      ]
    },
    {
      "cell_type": "code",
      "metadata": {
        "id": "OmE6I_Yo0pcs",
        "colab_type": "code",
        "outputId": "29ec1a83-c376-4c5f-bfad-54ee6a5d5e7a",
        "colab": {
          "base_uri": "https://localhost:8080/",
          "height": 134
        }
      },
      "source": [
        "logging.basicConfig(level=logging.INFO)  # logging.DEBUG for debug output\n",
        "\n",
        "# It returns: Status, Cost, Runtime, Additional Infos\n",
        "def_value_2 = ann_from_cfg_2(cs_2.get_default_configuration())\n",
        "\n",
        "print(cs_2.get_default_configuration())\n",
        "print(\"Default Value: %.4f\" % -def_value_2)"
      ],
      "execution_count": 41,
      "outputs": [
        {
          "output_type": "stream",
          "text": [
            "Configuration:\n",
            "  hidden_layer_1, Value: 3\n",
            "  hidden_layer_2, Value: 3\n",
            "  learning_rate_init_2, Value: 0.01\n",
            "  momentum_2, Value: 0.9\n",
            "\n",
            "Default Value: 0.8814\n"
          ],
          "name": "stdout"
        }
      ]
    },
    {
      "cell_type": "code",
      "metadata": {
        "id": "kRuO1tkuXgx4",
        "colab_type": "code",
        "colab": {}
      },
      "source": [
        "def RandomForest_SMBO_2(acq_func):\n",
        "  \n",
        "  smac = SMAC4HPO(scenario=scenario_2, rng=np.random.RandomState(65536),\n",
        "                tae_runner=ann_from_cfg_2,\n",
        "                initial_design=None,\n",
        "                initial_design_kwargs= {'n_configs_x_params': 10,\n",
        "                                        'max_config_fracs': 10/110}, \n",
        "                initial_configurations = init_2, \n",
        "                acquisition_function = acq_func)\n",
        "  \n",
        "  incumbent = smac.optimize()\n",
        "  inc_value = ann_from_cfg_2(incumbent)\n",
        "\n",
        "  lr = smac.optimize()['learning_rate_init_2']\n",
        "  m = smac.optimize()['momentum_2']\n",
        "  h1 = smac.optimize()['hidden_layer_1']\n",
        "  h2 = smac.optimize()['hidden_layer_2']\n",
        "\n",
        "  results = {'lr': lr, \n",
        "              'momentum' : m,\n",
        "              'neurons_h1': h1,\n",
        "              'neurons_h2': h2,\n",
        "              'score' : -inc_value\n",
        "              }\n",
        "  \n",
        "  print(\"Optimized Value: %.4f\" % (-inc_value))\n",
        "\n",
        "  return smac, results"
      ],
      "execution_count": 0,
      "outputs": []
    },
    {
      "cell_type": "code",
      "metadata": {
        "id": "Pi-d22Nba7Y-",
        "colab_type": "code",
        "outputId": "1dce0b10-edbc-4d88-9b0d-bf5d79c2c58c",
        "colab": {
          "base_uri": "https://localhost:8080/",
          "height": 1000
        }
      },
      "source": [
        "smac_LCB_2, results_LCB_2 = RandomForest_SMBO_2(LCB) "
      ],
      "execution_count": 43,
      "outputs": [
        {
          "output_type": "stream",
          "text": [
            "INFO:smac.facade.smac_hpo_facade.SMAC4HPO:Optimizing a deterministic scenario for quality without a tuner timeout - will make SMAC deterministic and only evaluate one configuration per iteration!\n",
            "INFO:smac.initial_design.initial_design.InitialDesign:Running initial design for 10 configurations\n",
            "INFO:smac.facade.smac_hpo_facade.SMAC4HPO:<class 'smac.facade.smac_hpo_facade.SMAC4HPO'>\n",
            "INFO:smac.intensification.intensification.Intensifier:Updated estimated cost of incumbent on 1 runs: -0.8814\n",
            "INFO:smac.intensification.intensification.Intensifier:Updated estimated cost of incumbent on 1 runs: -0.8814\n",
            "INFO:smac.intensification.intensification.Intensifier:Updated estimated cost of incumbent on 1 runs: -0.8814\n",
            "INFO:smac.intensification.intensification.Intensifier:Updated estimated cost of incumbent on 1 runs: -0.8814\n",
            "INFO:smac.intensification.intensification.Intensifier:Updated estimated cost of incumbent on 1 runs: -0.8814\n",
            "INFO:smac.intensification.intensification.Intensifier:Updated estimated cost of incumbent on 1 runs: -0.8814\n",
            "INFO:smac.intensification.intensification.Intensifier:Updated estimated cost of incumbent on 1 runs: -0.8814\n",
            "INFO:smac.intensification.intensification.Intensifier:Updated estimated cost of incumbent on 1 runs: -0.8814\n",
            "INFO:smac.intensification.intensification.Intensifier:Updated estimated cost of incumbent on 1 runs: -0.8814\n",
            "INFO:smac.intensification.intensification.Intensifier:Updated estimated cost of incumbent on 1 runs: -0.8814\n",
            "INFO:smac.intensification.intensification.Intensifier:Updated estimated cost of incumbent on 1 runs: -0.8814\n",
            "INFO:smac.intensification.intensification.Intensifier:Challenger (-0.8905) is better than incumbent (-0.8814) on 1 runs.\n",
            "INFO:smac.intensification.intensification.Intensifier:Changes in incumbent:\n",
            "INFO:smac.intensification.intensification.Intensifier:  hidden_layer_1 : 2 -> 3\n",
            "INFO:smac.intensification.intensification.Intensifier:  hidden_layer_2 : 2 -> 3\n",
            "INFO:smac.intensification.intensification.Intensifier:  learning_rate_init_2 : 0.05396843665547687 -> 0.057181909273619366\n",
            "INFO:smac.intensification.intensification.Intensifier:  momentum_2 : 0.7351154498265777 -> 0.4943920881597188\n",
            "INFO:smac.intensification.intensification.Intensifier:Updated estimated cost of incumbent on 1 runs: -0.8905\n",
            "INFO:smac.intensification.intensification.Intensifier:Updated estimated cost of incumbent on 1 runs: -0.8905\n",
            "INFO:smac.intensification.intensification.Intensifier:Updated estimated cost of incumbent on 1 runs: -0.8905\n",
            "INFO:smac.intensification.intensification.Intensifier:Updated estimated cost of incumbent on 1 runs: -0.8905\n",
            "INFO:smac.intensification.intensification.Intensifier:Updated estimated cost of incumbent on 1 runs: -0.8905\n",
            "INFO:smac.intensification.intensification.Intensifier:Updated estimated cost of incumbent on 1 runs: -0.8905\n",
            "INFO:smac.intensification.intensification.Intensifier:Updated estimated cost of incumbent on 1 runs: -0.8905\n",
            "INFO:smac.intensification.intensification.Intensifier:Updated estimated cost of incumbent on 1 runs: -0.8905\n",
            "INFO:smac.intensification.intensification.Intensifier:Updated estimated cost of incumbent on 1 runs: -0.8905\n",
            "INFO:smac.intensification.intensification.Intensifier:Updated estimated cost of incumbent on 1 runs: -0.8905\n",
            "INFO:smac.intensification.intensification.Intensifier:Updated estimated cost of incumbent on 1 runs: -0.8905\n",
            "INFO:smac.intensification.intensification.Intensifier:Updated estimated cost of incumbent on 1 runs: -0.8905\n",
            "INFO:smac.intensification.intensification.Intensifier:Updated estimated cost of incumbent on 1 runs: -0.8905\n",
            "INFO:smac.intensification.intensification.Intensifier:Updated estimated cost of incumbent on 1 runs: -0.8905\n",
            "INFO:smac.intensification.intensification.Intensifier:Updated estimated cost of incumbent on 1 runs: -0.8905\n",
            "INFO:smac.intensification.intensification.Intensifier:Updated estimated cost of incumbent on 1 runs: -0.8905\n",
            "INFO:smac.intensification.intensification.Intensifier:Updated estimated cost of incumbent on 1 runs: -0.8905\n",
            "INFO:smac.intensification.intensification.Intensifier:Updated estimated cost of incumbent on 1 runs: -0.8905\n",
            "INFO:smac.intensification.intensification.Intensifier:Updated estimated cost of incumbent on 1 runs: -0.8905\n",
            "INFO:smac.intensification.intensification.Intensifier:Updated estimated cost of incumbent on 1 runs: -0.8905\n",
            "INFO:smac.intensification.intensification.Intensifier:Updated estimated cost of incumbent on 1 runs: -0.8905\n",
            "INFO:smac.intensification.intensification.Intensifier:Updated estimated cost of incumbent on 1 runs: -0.8905\n",
            "INFO:smac.intensification.intensification.Intensifier:Updated estimated cost of incumbent on 1 runs: -0.8905\n",
            "INFO:smac.intensification.intensification.Intensifier:Updated estimated cost of incumbent on 1 runs: -0.8905\n",
            "INFO:smac.intensification.intensification.Intensifier:Updated estimated cost of incumbent on 1 runs: -0.8905\n",
            "INFO:smac.intensification.intensification.Intensifier:Updated estimated cost of incumbent on 1 runs: -0.8905\n",
            "INFO:smac.intensification.intensification.Intensifier:Updated estimated cost of incumbent on 1 runs: -0.8905\n",
            "INFO:smac.intensification.intensification.Intensifier:Updated estimated cost of incumbent on 1 runs: -0.8905\n",
            "INFO:smac.intensification.intensification.Intensifier:Updated estimated cost of incumbent on 1 runs: -0.8905\n",
            "INFO:smac.intensification.intensification.Intensifier:Updated estimated cost of incumbent on 1 runs: -0.8905\n",
            "INFO:smac.intensification.intensification.Intensifier:Updated estimated cost of incumbent on 1 runs: -0.8905\n",
            "INFO:smac.intensification.intensification.Intensifier:Updated estimated cost of incumbent on 1 runs: -0.8905\n",
            "INFO:smac.intensification.intensification.Intensifier:Updated estimated cost of incumbent on 1 runs: -0.8905\n",
            "INFO:smac.intensification.intensification.Intensifier:Updated estimated cost of incumbent on 1 runs: -0.8905\n",
            "INFO:smac.intensification.intensification.Intensifier:Updated estimated cost of incumbent on 1 runs: -0.8905\n",
            "INFO:smac.intensification.intensification.Intensifier:Updated estimated cost of incumbent on 1 runs: -0.8905\n",
            "INFO:smac.intensification.intensification.Intensifier:Updated estimated cost of incumbent on 1 runs: -0.8905\n",
            "INFO:smac.intensification.intensification.Intensifier:Updated estimated cost of incumbent on 1 runs: -0.8905\n",
            "INFO:smac.intensification.intensification.Intensifier:Updated estimated cost of incumbent on 1 runs: -0.8905\n",
            "INFO:smac.intensification.intensification.Intensifier:Updated estimated cost of incumbent on 1 runs: -0.8905\n",
            "INFO:smac.intensification.intensification.Intensifier:Updated estimated cost of incumbent on 1 runs: -0.8905\n",
            "INFO:smac.intensification.intensification.Intensifier:Updated estimated cost of incumbent on 1 runs: -0.8905\n",
            "INFO:smac.intensification.intensification.Intensifier:Updated estimated cost of incumbent on 1 runs: -0.8905\n",
            "INFO:smac.intensification.intensification.Intensifier:Updated estimated cost of incumbent on 1 runs: -0.8905\n",
            "INFO:smac.intensification.intensification.Intensifier:Updated estimated cost of incumbent on 1 runs: -0.8905\n",
            "INFO:smac.intensification.intensification.Intensifier:Updated estimated cost of incumbent on 1 runs: -0.8905\n",
            "INFO:smac.intensification.intensification.Intensifier:Updated estimated cost of incumbent on 1 runs: -0.8905\n",
            "INFO:smac.intensification.intensification.Intensifier:Updated estimated cost of incumbent on 1 runs: -0.8905\n",
            "INFO:smac.intensification.intensification.Intensifier:Updated estimated cost of incumbent on 1 runs: -0.8905\n",
            "INFO:smac.intensification.intensification.Intensifier:Updated estimated cost of incumbent on 1 runs: -0.8905\n",
            "INFO:smac.intensification.intensification.Intensifier:Updated estimated cost of incumbent on 1 runs: -0.8905\n",
            "INFO:smac.intensification.intensification.Intensifier:Updated estimated cost of incumbent on 1 runs: -0.8905\n",
            "INFO:smac.intensification.intensification.Intensifier:Updated estimated cost of incumbent on 1 runs: -0.8905\n",
            "INFO:smac.intensification.intensification.Intensifier:Updated estimated cost of incumbent on 1 runs: -0.8905\n",
            "INFO:smac.intensification.intensification.Intensifier:Updated estimated cost of incumbent on 1 runs: -0.8905\n",
            "INFO:smac.intensification.intensification.Intensifier:Updated estimated cost of incumbent on 1 runs: -0.8905\n",
            "INFO:smac.intensification.intensification.Intensifier:Updated estimated cost of incumbent on 1 runs: -0.8905\n",
            "INFO:smac.intensification.intensification.Intensifier:Updated estimated cost of incumbent on 1 runs: -0.8905\n",
            "INFO:smac.intensification.intensification.Intensifier:Updated estimated cost of incumbent on 1 runs: -0.8905\n",
            "INFO:smac.intensification.intensification.Intensifier:Updated estimated cost of incumbent on 1 runs: -0.8905\n",
            "INFO:smac.intensification.intensification.Intensifier:Updated estimated cost of incumbent on 1 runs: -0.8905\n",
            "INFO:smac.intensification.intensification.Intensifier:Updated estimated cost of incumbent on 1 runs: -0.8905\n",
            "INFO:smac.intensification.intensification.Intensifier:Updated estimated cost of incumbent on 1 runs: -0.8905\n",
            "INFO:smac.intensification.intensification.Intensifier:Updated estimated cost of incumbent on 1 runs: -0.8905\n",
            "INFO:smac.intensification.intensification.Intensifier:Updated estimated cost of incumbent on 1 runs: -0.8905\n",
            "INFO:smac.intensification.intensification.Intensifier:Updated estimated cost of incumbent on 1 runs: -0.8905\n",
            "INFO:smac.intensification.intensification.Intensifier:Updated estimated cost of incumbent on 1 runs: -0.8905\n",
            "INFO:smac.intensification.intensification.Intensifier:Updated estimated cost of incumbent on 1 runs: -0.8905\n",
            "INFO:smac.intensification.intensification.Intensifier:Updated estimated cost of incumbent on 1 runs: -0.8905\n",
            "INFO:smac.intensification.intensification.Intensifier:Updated estimated cost of incumbent on 1 runs: -0.8905\n",
            "INFO:smac.intensification.intensification.Intensifier:Updated estimated cost of incumbent on 1 runs: -0.8905\n",
            "INFO:smac.intensification.intensification.Intensifier:Updated estimated cost of incumbent on 1 runs: -0.8905\n",
            "INFO:smac.intensification.intensification.Intensifier:Updated estimated cost of incumbent on 1 runs: -0.8905\n",
            "INFO:smac.intensification.intensification.Intensifier:Updated estimated cost of incumbent on 1 runs: -0.8905\n",
            "INFO:smac.intensification.intensification.Intensifier:Updated estimated cost of incumbent on 1 runs: -0.8905\n",
            "INFO:smac.intensification.intensification.Intensifier:Updated estimated cost of incumbent on 1 runs: -0.8905\n",
            "INFO:smac.intensification.intensification.Intensifier:Updated estimated cost of incumbent on 1 runs: -0.8905\n",
            "INFO:smac.intensification.intensification.Intensifier:Updated estimated cost of incumbent on 1 runs: -0.8905\n",
            "INFO:smac.intensification.intensification.Intensifier:Updated estimated cost of incumbent on 1 runs: -0.8905\n",
            "INFO:smac.intensification.intensification.Intensifier:Updated estimated cost of incumbent on 1 runs: -0.8905\n",
            "INFO:smac.intensification.intensification.Intensifier:Challenger (-0.8914) is better than incumbent (-0.8905) on 1 runs.\n",
            "INFO:smac.intensification.intensification.Intensifier:Changes in incumbent:\n",
            "INFO:smac.intensification.intensification.Intensifier:  hidden_layer_1 : 3 -> 5\n",
            "INFO:smac.intensification.intensification.Intensifier:  learning_rate_init_2 : 0.057181909273619366 -> 0.07276851747395015\n",
            "INFO:smac.intensification.intensification.Intensifier:  momentum_2 : 0.4943920881597188 -> 0.4935605142764905\n",
            "INFO:smac.intensification.intensification.Intensifier:Updated estimated cost of incumbent on 1 runs: -0.8914\n",
            "INFO:smac.intensification.intensification.Intensifier:Updated estimated cost of incumbent on 1 runs: -0.8914\n",
            "INFO:smac.intensification.intensification.Intensifier:Updated estimated cost of incumbent on 1 runs: -0.8914\n",
            "INFO:smac.intensification.intensification.Intensifier:Updated estimated cost of incumbent on 1 runs: -0.8914\n",
            "INFO:smac.intensification.intensification.Intensifier:Updated estimated cost of incumbent on 1 runs: -0.8914\n",
            "INFO:smac.intensification.intensification.Intensifier:Updated estimated cost of incumbent on 1 runs: -0.8914\n",
            "INFO:smac.intensification.intensification.Intensifier:Updated estimated cost of incumbent on 1 runs: -0.8914\n",
            "INFO:smac.intensification.intensification.Intensifier:Updated estimated cost of incumbent on 1 runs: -0.8914\n",
            "INFO:smac.intensification.intensification.Intensifier:Updated estimated cost of incumbent on 1 runs: -0.8914\n",
            "INFO:smac.intensification.intensification.Intensifier:Updated estimated cost of incumbent on 1 runs: -0.8914\n",
            "INFO:smac.stats.stats.Stats:##########################################################\n",
            "INFO:smac.stats.stats.Stats:Statistics:\n",
            "INFO:smac.stats.stats.Stats:#Incumbent changed: 2\n",
            "INFO:smac.stats.stats.Stats:#Target algorithm runs: 110 / 110.0\n",
            "INFO:smac.stats.stats.Stats:#Configurations: 110\n",
            "INFO:smac.stats.stats.Stats:Used wallclock time: 158.90 / inf sec \n",
            "INFO:smac.stats.stats.Stats:Used target algorithm runtime: 65.30 / inf sec\n",
            "INFO:smac.stats.stats.Stats:##########################################################\n",
            "INFO:smac.facade.smac_hpo_facade.SMAC4HPO:Final Incumbent: Configuration:\n",
            "  hidden_layer_1, Value: 5\n",
            "  hidden_layer_2, Value: 3\n",
            "  learning_rate_init_2, Value: 0.07276851747395015\n",
            "  momentum_2, Value: 0.4935605142764905\n",
            "\n",
            "INFO:smac.facade.smac_hpo_facade.SMAC4HPO:Estimated cost of incumbent: -0.891414\n",
            "INFO:smac.optimizer.smbo.SMBO:State Restored! Starting optimization with incumbent Configuration:\n",
            "  hidden_layer_1, Value: 5\n",
            "  hidden_layer_2, Value: 3\n",
            "  learning_rate_init_2, Value: 0.07276851747395015\n",
            "  momentum_2, Value: 0.4935605142764905\n",
            "\n",
            "INFO:smac.optimizer.smbo.SMBO:State restored with following budget:\n",
            "INFO:smac.stats.stats.Stats:##########################################################\n",
            "INFO:smac.stats.stats.Stats:Statistics:\n",
            "INFO:smac.stats.stats.Stats:#Incumbent changed: 2\n",
            "INFO:smac.stats.stats.Stats:#Target algorithm runs: 110 / 110.0\n",
            "INFO:smac.stats.stats.Stats:#Configurations: 110\n",
            "INFO:smac.stats.stats.Stats:Used wallclock time: 158.90 / inf sec \n",
            "INFO:smac.stats.stats.Stats:Used target algorithm runtime: 65.30 / inf sec\n",
            "INFO:smac.stats.stats.Stats:##########################################################\n",
            "INFO:smac.stats.stats.Stats:##########################################################\n",
            "INFO:smac.stats.stats.Stats:Statistics:\n",
            "INFO:smac.stats.stats.Stats:#Incumbent changed: 2\n",
            "INFO:smac.stats.stats.Stats:#Target algorithm runs: 110 / 110.0\n",
            "INFO:smac.stats.stats.Stats:#Configurations: 110\n",
            "INFO:smac.stats.stats.Stats:Used wallclock time: 159.84 / inf sec \n",
            "INFO:smac.stats.stats.Stats:Used target algorithm runtime: 65.30 / inf sec\n",
            "INFO:smac.stats.stats.Stats:##########################################################\n",
            "INFO:smac.facade.smac_hpo_facade.SMAC4HPO:Final Incumbent: Configuration:\n",
            "  hidden_layer_1, Value: 5\n",
            "  hidden_layer_2, Value: 3\n",
            "  learning_rate_init_2, Value: 0.07276851747395015\n",
            "  momentum_2, Value: 0.4935605142764905\n",
            "\n",
            "INFO:smac.facade.smac_hpo_facade.SMAC4HPO:Estimated cost of incumbent: -0.891414\n",
            "INFO:smac.optimizer.smbo.SMBO:State Restored! Starting optimization with incumbent Configuration:\n",
            "  hidden_layer_1, Value: 5\n",
            "  hidden_layer_2, Value: 3\n",
            "  learning_rate_init_2, Value: 0.07276851747395015\n",
            "  momentum_2, Value: 0.4935605142764905\n",
            "\n",
            "INFO:smac.optimizer.smbo.SMBO:State restored with following budget:\n",
            "INFO:smac.stats.stats.Stats:##########################################################\n",
            "INFO:smac.stats.stats.Stats:Statistics:\n",
            "INFO:smac.stats.stats.Stats:#Incumbent changed: 2\n",
            "INFO:smac.stats.stats.Stats:#Target algorithm runs: 110 / 110.0\n",
            "INFO:smac.stats.stats.Stats:#Configurations: 110\n",
            "INFO:smac.stats.stats.Stats:Used wallclock time: 159.84 / inf sec \n",
            "INFO:smac.stats.stats.Stats:Used target algorithm runtime: 65.30 / inf sec\n",
            "INFO:smac.stats.stats.Stats:##########################################################\n",
            "INFO:smac.stats.stats.Stats:##########################################################\n",
            "INFO:smac.stats.stats.Stats:Statistics:\n",
            "INFO:smac.stats.stats.Stats:#Incumbent changed: 2\n",
            "INFO:smac.stats.stats.Stats:#Target algorithm runs: 110 / 110.0\n",
            "INFO:smac.stats.stats.Stats:#Configurations: 110\n",
            "INFO:smac.stats.stats.Stats:Used wallclock time: 160.74 / inf sec \n",
            "INFO:smac.stats.stats.Stats:Used target algorithm runtime: 65.30 / inf sec\n",
            "INFO:smac.stats.stats.Stats:##########################################################\n",
            "INFO:smac.facade.smac_hpo_facade.SMAC4HPO:Final Incumbent: Configuration:\n",
            "  hidden_layer_1, Value: 5\n",
            "  hidden_layer_2, Value: 3\n",
            "  learning_rate_init_2, Value: 0.07276851747395015\n",
            "  momentum_2, Value: 0.4935605142764905\n",
            "\n",
            "INFO:smac.facade.smac_hpo_facade.SMAC4HPO:Estimated cost of incumbent: -0.891414\n",
            "INFO:smac.optimizer.smbo.SMBO:State Restored! Starting optimization with incumbent Configuration:\n",
            "  hidden_layer_1, Value: 5\n",
            "  hidden_layer_2, Value: 3\n",
            "  learning_rate_init_2, Value: 0.07276851747395015\n",
            "  momentum_2, Value: 0.4935605142764905\n",
            "\n",
            "INFO:smac.optimizer.smbo.SMBO:State restored with following budget:\n",
            "INFO:smac.stats.stats.Stats:##########################################################\n",
            "INFO:smac.stats.stats.Stats:Statistics:\n",
            "INFO:smac.stats.stats.Stats:#Incumbent changed: 2\n",
            "INFO:smac.stats.stats.Stats:#Target algorithm runs: 110 / 110.0\n",
            "INFO:smac.stats.stats.Stats:#Configurations: 110\n",
            "INFO:smac.stats.stats.Stats:Used wallclock time: 160.74 / inf sec \n",
            "INFO:smac.stats.stats.Stats:Used target algorithm runtime: 65.30 / inf sec\n",
            "INFO:smac.stats.stats.Stats:##########################################################\n",
            "INFO:smac.stats.stats.Stats:##########################################################\n",
            "INFO:smac.stats.stats.Stats:Statistics:\n",
            "INFO:smac.stats.stats.Stats:#Incumbent changed: 2\n",
            "INFO:smac.stats.stats.Stats:#Target algorithm runs: 110 / 110.0\n",
            "INFO:smac.stats.stats.Stats:#Configurations: 110\n",
            "INFO:smac.stats.stats.Stats:Used wallclock time: 161.72 / inf sec \n",
            "INFO:smac.stats.stats.Stats:Used target algorithm runtime: 65.30 / inf sec\n",
            "INFO:smac.stats.stats.Stats:##########################################################\n",
            "INFO:smac.facade.smac_hpo_facade.SMAC4HPO:Final Incumbent: Configuration:\n",
            "  hidden_layer_1, Value: 5\n",
            "  hidden_layer_2, Value: 3\n",
            "  learning_rate_init_2, Value: 0.07276851747395015\n",
            "  momentum_2, Value: 0.4935605142764905\n",
            "\n",
            "INFO:smac.facade.smac_hpo_facade.SMAC4HPO:Estimated cost of incumbent: -0.891414\n",
            "INFO:smac.optimizer.smbo.SMBO:State Restored! Starting optimization with incumbent Configuration:\n",
            "  hidden_layer_1, Value: 5\n",
            "  hidden_layer_2, Value: 3\n",
            "  learning_rate_init_2, Value: 0.07276851747395015\n",
            "  momentum_2, Value: 0.4935605142764905\n",
            "\n",
            "INFO:smac.optimizer.smbo.SMBO:State restored with following budget:\n",
            "INFO:smac.stats.stats.Stats:##########################################################\n",
            "INFO:smac.stats.stats.Stats:Statistics:\n",
            "INFO:smac.stats.stats.Stats:#Incumbent changed: 2\n",
            "INFO:smac.stats.stats.Stats:#Target algorithm runs: 110 / 110.0\n",
            "INFO:smac.stats.stats.Stats:#Configurations: 110\n",
            "INFO:smac.stats.stats.Stats:Used wallclock time: 161.72 / inf sec \n",
            "INFO:smac.stats.stats.Stats:Used target algorithm runtime: 65.30 / inf sec\n",
            "INFO:smac.stats.stats.Stats:##########################################################\n",
            "INFO:smac.stats.stats.Stats:##########################################################\n",
            "INFO:smac.stats.stats.Stats:Statistics:\n",
            "INFO:smac.stats.stats.Stats:#Incumbent changed: 2\n",
            "INFO:smac.stats.stats.Stats:#Target algorithm runs: 110 / 110.0\n",
            "INFO:smac.stats.stats.Stats:#Configurations: 110\n",
            "INFO:smac.stats.stats.Stats:Used wallclock time: 162.71 / inf sec \n",
            "INFO:smac.stats.stats.Stats:Used target algorithm runtime: 65.30 / inf sec\n",
            "INFO:smac.stats.stats.Stats:##########################################################\n",
            "INFO:smac.facade.smac_hpo_facade.SMAC4HPO:Final Incumbent: Configuration:\n",
            "  hidden_layer_1, Value: 5\n",
            "  hidden_layer_2, Value: 3\n",
            "  learning_rate_init_2, Value: 0.07276851747395015\n",
            "  momentum_2, Value: 0.4935605142764905\n",
            "\n",
            "INFO:smac.facade.smac_hpo_facade.SMAC4HPO:Estimated cost of incumbent: -0.891414\n"
          ],
          "name": "stderr"
        },
        {
          "output_type": "stream",
          "text": [
            "Optimized Value: 0.8914\n"
          ],
          "name": "stdout"
        }
      ]
    },
    {
      "cell_type": "code",
      "metadata": {
        "id": "C5LQXIZNXgnG",
        "colab_type": "code",
        "outputId": "9308e647-7f01-4a32-95a0-1302af16cf90",
        "colab": {
          "base_uri": "https://localhost:8080/",
          "height": 1000
        }
      },
      "source": [
        "smac_EI_2, results_EI_2 = RandomForest_SMBO_2(EI) "
      ],
      "execution_count": 44,
      "outputs": [
        {
          "output_type": "stream",
          "text": [
            "INFO:smac.facade.smac_hpo_facade.SMAC4HPO:Optimizing a deterministic scenario for quality without a tuner timeout - will make SMAC deterministic and only evaluate one configuration per iteration!\n",
            "INFO:smac.initial_design.initial_design.InitialDesign:Running initial design for 10 configurations\n",
            "INFO:smac.facade.smac_hpo_facade.SMAC4HPO:<class 'smac.facade.smac_hpo_facade.SMAC4HPO'>\n",
            "INFO:smac.intensification.intensification.Intensifier:Updated estimated cost of incumbent on 1 runs: -0.8814\n",
            "INFO:smac.intensification.intensification.Intensifier:Updated estimated cost of incumbent on 1 runs: -0.8814\n",
            "INFO:smac.intensification.intensification.Intensifier:Updated estimated cost of incumbent on 1 runs: -0.8814\n",
            "INFO:smac.intensification.intensification.Intensifier:Updated estimated cost of incumbent on 1 runs: -0.8814\n",
            "INFO:smac.intensification.intensification.Intensifier:Updated estimated cost of incumbent on 1 runs: -0.8814\n",
            "INFO:smac.intensification.intensification.Intensifier:Updated estimated cost of incumbent on 1 runs: -0.8814\n",
            "INFO:smac.intensification.intensification.Intensifier:Updated estimated cost of incumbent on 1 runs: -0.8814\n",
            "INFO:smac.intensification.intensification.Intensifier:Updated estimated cost of incumbent on 1 runs: -0.8814\n",
            "INFO:smac.intensification.intensification.Intensifier:Updated estimated cost of incumbent on 1 runs: -0.8814\n",
            "INFO:smac.intensification.intensification.Intensifier:Updated estimated cost of incumbent on 1 runs: -0.8814\n",
            "INFO:smac.intensification.intensification.Intensifier:Updated estimated cost of incumbent on 1 runs: -0.8814\n",
            "INFO:smac.intensification.intensification.Intensifier:Updated estimated cost of incumbent on 1 runs: -0.8814\n",
            "INFO:smac.intensification.intensification.Intensifier:Updated estimated cost of incumbent on 1 runs: -0.8814\n",
            "INFO:smac.intensification.intensification.Intensifier:Updated estimated cost of incumbent on 1 runs: -0.8814\n",
            "INFO:smac.intensification.intensification.Intensifier:Updated estimated cost of incumbent on 1 runs: -0.8814\n",
            "INFO:smac.intensification.intensification.Intensifier:Updated estimated cost of incumbent on 1 runs: -0.8814\n",
            "INFO:smac.intensification.intensification.Intensifier:Updated estimated cost of incumbent on 1 runs: -0.8814\n",
            "INFO:smac.intensification.intensification.Intensifier:Updated estimated cost of incumbent on 1 runs: -0.8814\n",
            "INFO:smac.intensification.intensification.Intensifier:Updated estimated cost of incumbent on 1 runs: -0.8814\n",
            "INFO:smac.intensification.intensification.Intensifier:Updated estimated cost of incumbent on 1 runs: -0.8814\n",
            "INFO:smac.intensification.intensification.Intensifier:Updated estimated cost of incumbent on 1 runs: -0.8814\n",
            "INFO:smac.intensification.intensification.Intensifier:Updated estimated cost of incumbent on 1 runs: -0.8814\n",
            "INFO:smac.intensification.intensification.Intensifier:Updated estimated cost of incumbent on 1 runs: -0.8814\n",
            "INFO:smac.intensification.intensification.Intensifier:Updated estimated cost of incumbent on 1 runs: -0.8814\n",
            "INFO:smac.intensification.intensification.Intensifier:Updated estimated cost of incumbent on 1 runs: -0.8814\n",
            "INFO:smac.intensification.intensification.Intensifier:Updated estimated cost of incumbent on 1 runs: -0.8814\n",
            "INFO:smac.intensification.intensification.Intensifier:Updated estimated cost of incumbent on 1 runs: -0.8814\n",
            "INFO:smac.intensification.intensification.Intensifier:Updated estimated cost of incumbent on 1 runs: -0.8814\n",
            "INFO:smac.intensification.intensification.Intensifier:Updated estimated cost of incumbent on 1 runs: -0.8814\n",
            "INFO:smac.intensification.intensification.Intensifier:Updated estimated cost of incumbent on 1 runs: -0.8814\n",
            "INFO:smac.intensification.intensification.Intensifier:Updated estimated cost of incumbent on 1 runs: -0.8814\n",
            "INFO:smac.intensification.intensification.Intensifier:Updated estimated cost of incumbent on 1 runs: -0.8814\n",
            "INFO:smac.intensification.intensification.Intensifier:Updated estimated cost of incumbent on 1 runs: -0.8814\n",
            "INFO:smac.intensification.intensification.Intensifier:Updated estimated cost of incumbent on 1 runs: -0.8814\n",
            "INFO:smac.intensification.intensification.Intensifier:Updated estimated cost of incumbent on 1 runs: -0.8814\n",
            "INFO:smac.intensification.intensification.Intensifier:Updated estimated cost of incumbent on 1 runs: -0.8814\n",
            "INFO:smac.intensification.intensification.Intensifier:Updated estimated cost of incumbent on 1 runs: -0.8814\n",
            "INFO:smac.intensification.intensification.Intensifier:Updated estimated cost of incumbent on 1 runs: -0.8814\n",
            "INFO:smac.intensification.intensification.Intensifier:Updated estimated cost of incumbent on 1 runs: -0.8814\n",
            "INFO:smac.intensification.intensification.Intensifier:Updated estimated cost of incumbent on 1 runs: -0.8814\n",
            "INFO:smac.intensification.intensification.Intensifier:Updated estimated cost of incumbent on 1 runs: -0.8814\n",
            "INFO:smac.intensification.intensification.Intensifier:Updated estimated cost of incumbent on 1 runs: -0.8814\n",
            "INFO:smac.intensification.intensification.Intensifier:Updated estimated cost of incumbent on 1 runs: -0.8814\n",
            "INFO:smac.intensification.intensification.Intensifier:Updated estimated cost of incumbent on 1 runs: -0.8814\n",
            "INFO:smac.intensification.intensification.Intensifier:Updated estimated cost of incumbent on 1 runs: -0.8814\n",
            "INFO:smac.intensification.intensification.Intensifier:Updated estimated cost of incumbent on 1 runs: -0.8814\n",
            "INFO:smac.intensification.intensification.Intensifier:Updated estimated cost of incumbent on 1 runs: -0.8814\n",
            "INFO:smac.intensification.intensification.Intensifier:Updated estimated cost of incumbent on 1 runs: -0.8814\n",
            "INFO:smac.intensification.intensification.Intensifier:Updated estimated cost of incumbent on 1 runs: -0.8814\n",
            "INFO:smac.intensification.intensification.Intensifier:Updated estimated cost of incumbent on 1 runs: -0.8814\n",
            "INFO:smac.intensification.intensification.Intensifier:Updated estimated cost of incumbent on 1 runs: -0.8814\n",
            "INFO:smac.intensification.intensification.Intensifier:Updated estimated cost of incumbent on 1 runs: -0.8814\n",
            "INFO:smac.intensification.intensification.Intensifier:Updated estimated cost of incumbent on 1 runs: -0.8814\n",
            "INFO:smac.intensification.intensification.Intensifier:Updated estimated cost of incumbent on 1 runs: -0.8814\n",
            "INFO:smac.intensification.intensification.Intensifier:Updated estimated cost of incumbent on 1 runs: -0.8814\n",
            "INFO:smac.intensification.intensification.Intensifier:Updated estimated cost of incumbent on 1 runs: -0.8814\n",
            "INFO:smac.intensification.intensification.Intensifier:Updated estimated cost of incumbent on 1 runs: -0.8814\n",
            "INFO:smac.intensification.intensification.Intensifier:Updated estimated cost of incumbent on 1 runs: -0.8814\n",
            "INFO:smac.intensification.intensification.Intensifier:Updated estimated cost of incumbent on 1 runs: -0.8814\n",
            "INFO:smac.intensification.intensification.Intensifier:Updated estimated cost of incumbent on 1 runs: -0.8814\n",
            "INFO:smac.intensification.intensification.Intensifier:Updated estimated cost of incumbent on 1 runs: -0.8814\n",
            "INFO:smac.intensification.intensification.Intensifier:Updated estimated cost of incumbent on 1 runs: -0.8814\n",
            "INFO:smac.intensification.intensification.Intensifier:Updated estimated cost of incumbent on 1 runs: -0.8814\n",
            "INFO:smac.intensification.intensification.Intensifier:Updated estimated cost of incumbent on 1 runs: -0.8814\n",
            "INFO:smac.intensification.intensification.Intensifier:Updated estimated cost of incumbent on 1 runs: -0.8814\n",
            "INFO:smac.intensification.intensification.Intensifier:Updated estimated cost of incumbent on 1 runs: -0.8814\n",
            "INFO:smac.intensification.intensification.Intensifier:Updated estimated cost of incumbent on 1 runs: -0.8814\n",
            "INFO:smac.intensification.intensification.Intensifier:Updated estimated cost of incumbent on 1 runs: -0.8814\n",
            "INFO:smac.intensification.intensification.Intensifier:Updated estimated cost of incumbent on 1 runs: -0.8814\n",
            "INFO:smac.intensification.intensification.Intensifier:Updated estimated cost of incumbent on 1 runs: -0.8814\n",
            "INFO:smac.intensification.intensification.Intensifier:Updated estimated cost of incumbent on 1 runs: -0.8814\n",
            "INFO:smac.intensification.intensification.Intensifier:Updated estimated cost of incumbent on 1 runs: -0.8814\n",
            "INFO:smac.intensification.intensification.Intensifier:Updated estimated cost of incumbent on 1 runs: -0.8814\n",
            "INFO:smac.intensification.intensification.Intensifier:Challenger (-0.8914) is better than incumbent (-0.8814) on 1 runs.\n",
            "INFO:smac.intensification.intensification.Intensifier:Changes in incumbent:\n",
            "INFO:smac.intensification.intensification.Intensifier:  hidden_layer_1 : 2 -> 5\n",
            "INFO:smac.intensification.intensification.Intensifier:  hidden_layer_2 : 2 -> 3\n",
            "INFO:smac.intensification.intensification.Intensifier:  learning_rate_init_2 : 0.05396843665547687 -> 0.05359317493936024\n",
            "INFO:smac.intensification.intensification.Intensifier:  momentum_2 : 0.7351154498265777 -> 0.3149755855828753\n",
            "INFO:smac.intensification.intensification.Intensifier:Updated estimated cost of incumbent on 1 runs: -0.8914\n",
            "INFO:smac.intensification.intensification.Intensifier:Updated estimated cost of incumbent on 1 runs: -0.8914\n",
            "INFO:smac.intensification.intensification.Intensifier:Updated estimated cost of incumbent on 1 runs: -0.8914\n",
            "INFO:smac.intensification.intensification.Intensifier:Updated estimated cost of incumbent on 1 runs: -0.8914\n",
            "INFO:smac.intensification.intensification.Intensifier:Updated estimated cost of incumbent on 1 runs: -0.8914\n",
            "INFO:smac.intensification.intensification.Intensifier:Updated estimated cost of incumbent on 1 runs: -0.8914\n",
            "INFO:smac.intensification.intensification.Intensifier:Updated estimated cost of incumbent on 1 runs: -0.8914\n",
            "INFO:smac.intensification.intensification.Intensifier:Updated estimated cost of incumbent on 1 runs: -0.8914\n",
            "INFO:smac.intensification.intensification.Intensifier:Updated estimated cost of incumbent on 1 runs: -0.8914\n",
            "INFO:smac.intensification.intensification.Intensifier:Updated estimated cost of incumbent on 1 runs: -0.8914\n",
            "INFO:smac.intensification.intensification.Intensifier:Updated estimated cost of incumbent on 1 runs: -0.8914\n",
            "INFO:smac.intensification.intensification.Intensifier:Updated estimated cost of incumbent on 1 runs: -0.8914\n",
            "INFO:smac.intensification.intensification.Intensifier:Updated estimated cost of incumbent on 1 runs: -0.8914\n",
            "INFO:smac.intensification.intensification.Intensifier:Updated estimated cost of incumbent on 1 runs: -0.8914\n",
            "INFO:smac.intensification.intensification.Intensifier:Updated estimated cost of incumbent on 1 runs: -0.8914\n",
            "INFO:smac.intensification.intensification.Intensifier:Updated estimated cost of incumbent on 1 runs: -0.8914\n",
            "INFO:smac.intensification.intensification.Intensifier:Updated estimated cost of incumbent on 1 runs: -0.8914\n",
            "INFO:smac.intensification.intensification.Intensifier:Updated estimated cost of incumbent on 1 runs: -0.8914\n",
            "INFO:smac.intensification.intensification.Intensifier:Updated estimated cost of incumbent on 1 runs: -0.8914\n",
            "INFO:smac.intensification.intensification.Intensifier:Updated estimated cost of incumbent on 1 runs: -0.8914\n",
            "INFO:smac.intensification.intensification.Intensifier:Updated estimated cost of incumbent on 1 runs: -0.8914\n",
            "INFO:smac.intensification.intensification.Intensifier:Updated estimated cost of incumbent on 1 runs: -0.8914\n",
            "INFO:smac.intensification.intensification.Intensifier:Updated estimated cost of incumbent on 1 runs: -0.8914\n",
            "INFO:smac.intensification.intensification.Intensifier:Updated estimated cost of incumbent on 1 runs: -0.8914\n",
            "INFO:smac.intensification.intensification.Intensifier:Updated estimated cost of incumbent on 1 runs: -0.8914\n",
            "INFO:smac.intensification.intensification.Intensifier:Updated estimated cost of incumbent on 1 runs: -0.8914\n",
            "INFO:smac.intensification.intensification.Intensifier:Updated estimated cost of incumbent on 1 runs: -0.8914\n",
            "INFO:smac.intensification.intensification.Intensifier:Updated estimated cost of incumbent on 1 runs: -0.8914\n",
            "INFO:smac.stats.stats.Stats:##########################################################\n",
            "INFO:smac.stats.stats.Stats:Statistics:\n",
            "INFO:smac.stats.stats.Stats:#Incumbent changed: 1\n",
            "INFO:smac.stats.stats.Stats:#Target algorithm runs: 110 / 110.0\n",
            "INFO:smac.stats.stats.Stats:#Configurations: 110\n",
            "INFO:smac.stats.stats.Stats:Used wallclock time: 161.36 / inf sec \n",
            "INFO:smac.stats.stats.Stats:Used target algorithm runtime: 60.72 / inf sec\n",
            "INFO:smac.stats.stats.Stats:##########################################################\n",
            "INFO:smac.facade.smac_hpo_facade.SMAC4HPO:Final Incumbent: Configuration:\n",
            "  hidden_layer_1, Value: 5\n",
            "  hidden_layer_2, Value: 3\n",
            "  learning_rate_init_2, Value: 0.05359317493936024\n",
            "  momentum_2, Value: 0.3149755855828753\n",
            "\n",
            "INFO:smac.facade.smac_hpo_facade.SMAC4HPO:Estimated cost of incumbent: -0.891414\n",
            "INFO:smac.optimizer.smbo.SMBO:State Restored! Starting optimization with incumbent Configuration:\n",
            "  hidden_layer_1, Value: 5\n",
            "  hidden_layer_2, Value: 3\n",
            "  learning_rate_init_2, Value: 0.05359317493936024\n",
            "  momentum_2, Value: 0.3149755855828753\n",
            "\n",
            "INFO:smac.optimizer.smbo.SMBO:State restored with following budget:\n",
            "INFO:smac.stats.stats.Stats:##########################################################\n",
            "INFO:smac.stats.stats.Stats:Statistics:\n",
            "INFO:smac.stats.stats.Stats:#Incumbent changed: 1\n",
            "INFO:smac.stats.stats.Stats:#Target algorithm runs: 110 / 110.0\n",
            "INFO:smac.stats.stats.Stats:#Configurations: 110\n",
            "INFO:smac.stats.stats.Stats:Used wallclock time: 161.36 / inf sec \n",
            "INFO:smac.stats.stats.Stats:Used target algorithm runtime: 60.72 / inf sec\n",
            "INFO:smac.stats.stats.Stats:##########################################################\n",
            "INFO:smac.stats.stats.Stats:##########################################################\n",
            "INFO:smac.stats.stats.Stats:Statistics:\n",
            "INFO:smac.stats.stats.Stats:#Incumbent changed: 1\n",
            "INFO:smac.stats.stats.Stats:#Target algorithm runs: 110 / 110.0\n",
            "INFO:smac.stats.stats.Stats:#Configurations: 110\n",
            "INFO:smac.stats.stats.Stats:Used wallclock time: 162.36 / inf sec \n",
            "INFO:smac.stats.stats.Stats:Used target algorithm runtime: 60.72 / inf sec\n",
            "INFO:smac.stats.stats.Stats:##########################################################\n",
            "INFO:smac.facade.smac_hpo_facade.SMAC4HPO:Final Incumbent: Configuration:\n",
            "  hidden_layer_1, Value: 5\n",
            "  hidden_layer_2, Value: 3\n",
            "  learning_rate_init_2, Value: 0.05359317493936024\n",
            "  momentum_2, Value: 0.3149755855828753\n",
            "\n",
            "INFO:smac.facade.smac_hpo_facade.SMAC4HPO:Estimated cost of incumbent: -0.891414\n",
            "INFO:smac.optimizer.smbo.SMBO:State Restored! Starting optimization with incumbent Configuration:\n",
            "  hidden_layer_1, Value: 5\n",
            "  hidden_layer_2, Value: 3\n",
            "  learning_rate_init_2, Value: 0.05359317493936024\n",
            "  momentum_2, Value: 0.3149755855828753\n",
            "\n",
            "INFO:smac.optimizer.smbo.SMBO:State restored with following budget:\n",
            "INFO:smac.stats.stats.Stats:##########################################################\n",
            "INFO:smac.stats.stats.Stats:Statistics:\n",
            "INFO:smac.stats.stats.Stats:#Incumbent changed: 1\n",
            "INFO:smac.stats.stats.Stats:#Target algorithm runs: 110 / 110.0\n",
            "INFO:smac.stats.stats.Stats:#Configurations: 110\n",
            "INFO:smac.stats.stats.Stats:Used wallclock time: 162.36 / inf sec \n",
            "INFO:smac.stats.stats.Stats:Used target algorithm runtime: 60.72 / inf sec\n",
            "INFO:smac.stats.stats.Stats:##########################################################\n",
            "INFO:smac.stats.stats.Stats:##########################################################\n",
            "INFO:smac.stats.stats.Stats:Statistics:\n",
            "INFO:smac.stats.stats.Stats:#Incumbent changed: 1\n",
            "INFO:smac.stats.stats.Stats:#Target algorithm runs: 110 / 110.0\n",
            "INFO:smac.stats.stats.Stats:#Configurations: 110\n",
            "INFO:smac.stats.stats.Stats:Used wallclock time: 163.44 / inf sec \n",
            "INFO:smac.stats.stats.Stats:Used target algorithm runtime: 60.72 / inf sec\n",
            "INFO:smac.stats.stats.Stats:##########################################################\n",
            "INFO:smac.facade.smac_hpo_facade.SMAC4HPO:Final Incumbent: Configuration:\n",
            "  hidden_layer_1, Value: 5\n",
            "  hidden_layer_2, Value: 3\n",
            "  learning_rate_init_2, Value: 0.05359317493936024\n",
            "  momentum_2, Value: 0.3149755855828753\n",
            "\n",
            "INFO:smac.facade.smac_hpo_facade.SMAC4HPO:Estimated cost of incumbent: -0.891414\n",
            "INFO:smac.optimizer.smbo.SMBO:State Restored! Starting optimization with incumbent Configuration:\n",
            "  hidden_layer_1, Value: 5\n",
            "  hidden_layer_2, Value: 3\n",
            "  learning_rate_init_2, Value: 0.05359317493936024\n",
            "  momentum_2, Value: 0.3149755855828753\n",
            "\n",
            "INFO:smac.optimizer.smbo.SMBO:State restored with following budget:\n",
            "INFO:smac.stats.stats.Stats:##########################################################\n",
            "INFO:smac.stats.stats.Stats:Statistics:\n",
            "INFO:smac.stats.stats.Stats:#Incumbent changed: 1\n",
            "INFO:smac.stats.stats.Stats:#Target algorithm runs: 110 / 110.0\n",
            "INFO:smac.stats.stats.Stats:#Configurations: 110\n",
            "INFO:smac.stats.stats.Stats:Used wallclock time: 163.44 / inf sec \n",
            "INFO:smac.stats.stats.Stats:Used target algorithm runtime: 60.72 / inf sec\n",
            "INFO:smac.stats.stats.Stats:##########################################################\n",
            "INFO:smac.stats.stats.Stats:##########################################################\n",
            "INFO:smac.stats.stats.Stats:Statistics:\n",
            "INFO:smac.stats.stats.Stats:#Incumbent changed: 1\n",
            "INFO:smac.stats.stats.Stats:#Target algorithm runs: 110 / 110.0\n",
            "INFO:smac.stats.stats.Stats:#Configurations: 110\n",
            "INFO:smac.stats.stats.Stats:Used wallclock time: 164.36 / inf sec \n",
            "INFO:smac.stats.stats.Stats:Used target algorithm runtime: 60.72 / inf sec\n",
            "INFO:smac.stats.stats.Stats:##########################################################\n",
            "INFO:smac.facade.smac_hpo_facade.SMAC4HPO:Final Incumbent: Configuration:\n",
            "  hidden_layer_1, Value: 5\n",
            "  hidden_layer_2, Value: 3\n",
            "  learning_rate_init_2, Value: 0.05359317493936024\n",
            "  momentum_2, Value: 0.3149755855828753\n",
            "\n",
            "INFO:smac.facade.smac_hpo_facade.SMAC4HPO:Estimated cost of incumbent: -0.891414\n",
            "INFO:smac.optimizer.smbo.SMBO:State Restored! Starting optimization with incumbent Configuration:\n",
            "  hidden_layer_1, Value: 5\n",
            "  hidden_layer_2, Value: 3\n",
            "  learning_rate_init_2, Value: 0.05359317493936024\n",
            "  momentum_2, Value: 0.3149755855828753\n",
            "\n",
            "INFO:smac.optimizer.smbo.SMBO:State restored with following budget:\n",
            "INFO:smac.stats.stats.Stats:##########################################################\n",
            "INFO:smac.stats.stats.Stats:Statistics:\n",
            "INFO:smac.stats.stats.Stats:#Incumbent changed: 1\n",
            "INFO:smac.stats.stats.Stats:#Target algorithm runs: 110 / 110.0\n",
            "INFO:smac.stats.stats.Stats:#Configurations: 110\n",
            "INFO:smac.stats.stats.Stats:Used wallclock time: 164.36 / inf sec \n",
            "INFO:smac.stats.stats.Stats:Used target algorithm runtime: 60.72 / inf sec\n",
            "INFO:smac.stats.stats.Stats:##########################################################\n",
            "INFO:smac.stats.stats.Stats:##########################################################\n",
            "INFO:smac.stats.stats.Stats:Statistics:\n",
            "INFO:smac.stats.stats.Stats:#Incumbent changed: 1\n",
            "INFO:smac.stats.stats.Stats:#Target algorithm runs: 110 / 110.0\n",
            "INFO:smac.stats.stats.Stats:#Configurations: 110\n",
            "INFO:smac.stats.stats.Stats:Used wallclock time: 165.41 / inf sec \n",
            "INFO:smac.stats.stats.Stats:Used target algorithm runtime: 60.72 / inf sec\n",
            "INFO:smac.stats.stats.Stats:##########################################################\n",
            "INFO:smac.facade.smac_hpo_facade.SMAC4HPO:Final Incumbent: Configuration:\n",
            "  hidden_layer_1, Value: 5\n",
            "  hidden_layer_2, Value: 3\n",
            "  learning_rate_init_2, Value: 0.05359317493936024\n",
            "  momentum_2, Value: 0.3149755855828753\n",
            "\n",
            "INFO:smac.facade.smac_hpo_facade.SMAC4HPO:Estimated cost of incumbent: -0.891414\n"
          ],
          "name": "stderr"
        },
        {
          "output_type": "stream",
          "text": [
            "Optimized Value: 0.8914\n"
          ],
          "name": "stdout"
        }
      ]
    },
    {
      "cell_type": "code",
      "metadata": {
        "id": "7ghzglY4XghP",
        "colab_type": "code",
        "colab": {}
      },
      "source": [
        "history_LCB_2 = performance_history(smac_LCB_2)\n",
        "history_EI_2 = performance_history(smac_EI_2)"
      ],
      "execution_count": 0,
      "outputs": []
    },
    {
      "cell_type": "code",
      "metadata": {
        "id": "kSEdI_mCXgUb",
        "colab_type": "code",
        "outputId": "9e382cde-bdae-497d-ca3a-4055ce9e307a",
        "colab": {
          "base_uri": "https://localhost:8080/",
          "height": 350
        }
      },
      "source": [
        "plt.figure(figsize = (15,5))\n",
        "plt.plot(history_LCB_2, marker = \"x\", color='steelblue', linestyle='-')\n",
        "plt.plot(history_EI_2, marker = \".\", color='coral', linestyle='--')\n",
        "plt.axvline(x=9, ls=':', c='grey')\n",
        "\n",
        "plt.xticks(np.arange(0, 115, 5))\n",
        "\n",
        "plt.legend([\"LCB\", \"EI\"])\n",
        "plt.xlabel(\"Iterations\")\n",
        "plt.ylabel(\"Accuracy\")"
      ],
      "execution_count": 46,
      "outputs": [
        {
          "output_type": "execute_result",
          "data": {
            "text/plain": [
              "Text(0, 0.5, 'Accuracy')"
            ]
          },
          "metadata": {
            "tags": []
          },
          "execution_count": 46
        },
        {
          "output_type": "display_data",
          "data": {
            "image/png": "[encoded data removed]",
            "text/plain": [
              "<Figure size 1080x360 with 1 Axes>"
            ]
          },
          "metadata": {
            "tags": []
          }
        }
      ]
    },
    {
      "cell_type": "code",
      "metadata": {
        "id": "VtQowe4QNuoo",
        "colab_type": "code",
        "colab": {}
      },
      "source": [
        "lr_2 = []\n",
        "m_2 = []\n",
        "h1 = []\n",
        "h2 = []\n",
        "score_2 = []\n",
        "\n",
        "for v in results_LCB_2, results_EI_2:\n",
        "  lr_2.append(v['lr'])\n",
        "  m_2.append(v['momentum'])\n",
        "  h1.append(v['neurons_h1'])\n",
        "  h2.append(v['neurons_h2'])\n",
        "  score_2.append(v['score'])\n",
        "\n",
        "results_2 = {'learning rate': lr_2, 'momentum' : m_2, 'neurons_h1': h1,\n",
        "            'neurons_h2': h2, 'score': score_2}\n",
        "results_2 = pd.DataFrame.transpose(pd.DataFrame.from_dict(results_2, \n",
        "                                                         orient='index', \n",
        "                                                         columns=['RandomForest_LCB','RandomForest_EI']))"
      ],
      "execution_count": 0,
      "outputs": []
    },
    {
      "cell_type": "code",
      "metadata": {
        "id": "7ZI1HpdhovA0",
        "colab_type": "code",
        "colab": {}
      },
      "source": [
        "results_2['neurons_h1'] = pd.to_numeric(results_2['neurons_h1'], downcast='integer')\n",
        "results_2['neurons_h2'] = pd.to_numeric(results_2['neurons_h2'], downcast='integer')"
      ],
      "execution_count": 0,
      "outputs": []
    },
    {
      "cell_type": "code",
      "metadata": {
        "id": "Igugss8PvvJL",
        "colab_type": "code",
        "colab": {
          "base_uri": "https://localhost:8080/",
          "height": 107
        },
        "outputId": "351b5768-90db-48d6-cd15-68e321c7fc74"
      },
      "source": [
        "results_2"
      ],
      "execution_count": 49,
      "outputs": [
        {
          "output_type": "execute_result",
          "data": {
            "text/html": [
              "<div>\n",
              "<style scoped>\n",
              "    .dataframe tbody tr th:only-of-type {\n",
              "        vertical-align: middle;\n",
              "    }\n",
              "\n",
              "    .dataframe tbody tr th {\n",
              "        vertical-align: top;\n",
              "    }\n",
              "\n",
              "    .dataframe thead th {\n",
              "        text-align: right;\n",
              "    }\n",
              "</style>\n",
              "<table border=\"1\" class=\"dataframe\">\n",
              "  <thead>\n",
              "    <tr style=\"text-align: right;\">\n",
              "      <th></th>\n",
              "      <th>learning rate</th>\n",
              "      <th>momentum</th>\n",
              "      <th>neurons_h1</th>\n",
              "      <th>neurons_h2</th>\n",
              "      <th>score</th>\n",
              "    </tr>\n",
              "  </thead>\n",
              "  <tbody>\n",
              "    <tr>\n",
              "      <th>RandomForest_LCB</th>\n",
              "      <td>0.072769</td>\n",
              "      <td>0.493561</td>\n",
              "      <td>5</td>\n",
              "      <td>3</td>\n",
              "      <td>0.891414</td>\n",
              "    </tr>\n",
              "    <tr>\n",
              "      <th>RandomForest_EI</th>\n",
              "      <td>0.053593</td>\n",
              "      <td>0.314976</td>\n",
              "      <td>5</td>\n",
              "      <td>3</td>\n",
              "      <td>0.891414</td>\n",
              "    </tr>\n",
              "  </tbody>\n",
              "</table>\n",
              "</div>"
            ],
            "text/plain": [
              "                  learning rate  momentum  neurons_h1  neurons_h2     score\n",
              "RandomForest_LCB       0.072769  0.493561           5           3  0.891414\n",
              "RandomForest_EI        0.053593  0.314976           5           3  0.891414"
            ]
          },
          "metadata": {
            "tags": []
          },
          "execution_count": 49
        }
      ]
    },
    {
      "cell_type": "code",
      "metadata": {
        "id": "o7sSKxOVeuQX",
        "colab_type": "code",
        "colab": {}
      },
      "source": [
        ""
      ],
      "execution_count": 0,
      "outputs": []
    }
  ]
}